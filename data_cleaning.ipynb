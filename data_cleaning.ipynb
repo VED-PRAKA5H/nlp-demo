{
 "cells": [
  {
   "cell_type": "markdown",
   "id": "fbd07408-c9ad-4287-afe4-cdd38e788c10",
   "metadata": {},
   "source": [
    "# 1 Data Cleaning "
   ]
  },
  {
   "cell_type": "markdown",
   "id": "c2a0009b-1a77-48b2-9573-7d92b32fd482",
   "metadata": {},
   "source": [
    "## 1.1 Introduction\n",
    "we will be walking through:\n",
    "1. Getting the data\n",
    "2. Cleaning the data\n",
    "3. Organizing the data\n",
    "   \n",
    "The output of this notebook will be clean, organized data in two standard text formats:\n",
    "1. **Corpus** - a collection of text\n",
    "2. **Document Text Matrix** - word counts in matrix format"
   ]
  },
  {
   "cell_type": "markdown",
   "id": "223ddd48-6b59-4980-bb7e-3aae8781ba2e",
   "metadata": {},
   "source": [
    "## 1.2 Problem Statement\n",
    "How someone speech is different than othes?"
   ]
  },
  {
   "cell_type": "markdown",
   "id": "afe0a254-46fb-4f3a-b380-9d84a286d14f",
   "metadata": {},
   "source": [
    "## 1.3 Getting The Data\n",
    "Get routine of comedian who has imdb rating greater or equal than 7.5/10 and more than 2000 votes.\\\n",
    "Do scraping from the [SCRAPS FROM THE LOFT](https://scrapsfromtheloft.com/comedy/your-friend-nate-bargatze-transcript/)"
   ]
  },
  {
   "cell_type": "code",
   "execution_count": 2,
   "id": "387e6419-7fb0-4a45-8dfb-b9790bf3c7a0",
   "metadata": {},
   "outputs": [],
   "source": [
    "# Web scraping, pickle imports\n",
    "import requests\n",
    "from bs4 import BeautifulSoup\n",
    "import pickle"
   ]
  },
  {
   "cell_type": "code",
   "execution_count": 40,
   "id": "6bc9cdf5-a61d-4c96-b3c5-bb92a6033d2a",
   "metadata": {},
   "outputs": [],
   "source": [
    "def url_to_transcript(url):\n",
    "    \"\"\"Return transcript data specifically from scrapsfromloft.com\"\"\"\n",
    "    page = requests.get(url).text\n",
    "    soup = BeautifulSoup(page, 'html')\n",
    "    text = [p.text for p in soup.find_all('p')]\n",
    "    print(url)\n",
    "    return text\n",
    "\n",
    "# URLs of transcripts in scope\n",
    "urls = [\n",
    "    'https://scrapsfromtheloft.com/comedy/tom-papa-home-free-transcript/',\n",
    "    'https://scrapsfromtheloft.com/comedy/anthony-jeselnik-bones-and-all-transcript/',\n",
    "    'https://scrapsfromtheloft.com/comedy/bill-maher-is-anyone-else-seeing-this-transcript/',\n",
    "    'https://scrapsfromtheloft.com/comedy/ali-wong-single-lady-transcript/',\n",
    "    'https://scrapsfromtheloft.com/comedy/ahir-shah-ends-transcript/',\n",
    "    'https://scrapsfromtheloft.com/comedy/ari-shaffir-americas-sweetheart-transcript/',\n",
    "    'https://scrapsfromtheloft.com/comedy/gabriel-iglesias-legend-of-fluffy-2025-transcript/',\n",
    "    'https://scrapsfromtheloft.com/comedy/your-friend-nate-bargatze-transcript/',\n",
    "    'https://scrapsfromtheloft.com/comedy/joe-rogan-burn-the-boats-transcript/'\n",
    "]\n",
    "comedians = ['tom', 'anthony', 'bill', 'ali', 'ahir', 'ari', 'gabriel', 'nate', 'joe']\n",
    "minutes_runs = [62, 51, 66, 59, 61, 75, 101, 63, 67]"
   ]
  },
  {
   "cell_type": "code",
   "execution_count": 41,
   "id": "4838e061-cade-446d-b4de-ae854e537579",
   "metadata": {},
   "outputs": [
    {
     "name": "stdout",
     "output_type": "stream",
     "text": [
      "https://scrapsfromtheloft.com/comedy/tom-papa-home-free-transcript/\n",
      "https://scrapsfromtheloft.com/comedy/anthony-jeselnik-bones-and-all-transcript/\n",
      "https://scrapsfromtheloft.com/comedy/bill-maher-is-anyone-else-seeing-this-transcript/\n",
      "https://scrapsfromtheloft.com/comedy/ali-wong-single-lady-transcript/\n",
      "https://scrapsfromtheloft.com/comedy/ahir-shah-ends-transcript/\n",
      "https://scrapsfromtheloft.com/comedy/ari-shaffir-americas-sweetheart-transcript/\n",
      "https://scrapsfromtheloft.com/comedy/gabriel-iglesias-legend-of-fluffy-2025-transcript/\n",
      "https://scrapsfromtheloft.com/comedy/your-friend-nate-bargatze-transcript/\n",
      "https://scrapsfromtheloft.com/comedy/joe-rogan-burn-the-boats-transcript/\n"
     ]
    }
   ],
   "source": [
    "# this will take some time to scrape\n",
    "transcripts = [url_to_transcript(u) for u in urls]"
   ]
  },
  {
   "cell_type": "code",
   "execution_count": 42,
   "id": "585135d8-51c3-47e4-8b45-8885473a2429",
   "metadata": {},
   "outputs": [],
   "source": [
    "data = dict()\n",
    "for i, c in enumerate(comedians):\n",
    "    data[c] = transcripts[i]"
   ]
  },
  {
   "cell_type": "code",
   "execution_count": 6,
   "id": "b88c6c3f-7f2a-4a40-972b-286894025cc4",
   "metadata": {},
   "outputs": [],
   "source": [
    "# pickle files for later use\n",
    "# make a new directory to hold the text files\n",
    "# import os\n",
    "# os.mkdir('data')"
   ]
  },
  {
   "cell_type": "code",
   "execution_count": 43,
   "id": "35a4b4f2-aa7a-4a87-83ec-9038ef341a71",
   "metadata": {},
   "outputs": [],
   "source": [
    "# Save the dictionary to a pickle file\n",
    "with open('data/data.pickle', 'wb') as file:\n",
    "    pickle.dump(data, file)"
   ]
  },
  {
   "cell_type": "code",
   "execution_count": 44,
   "id": "7b4ffffd-cdb3-476b-8b64-75ac49ad947c",
   "metadata": {},
   "outputs": [
    {
     "data": {
      "text/plain": [
       "dict_keys(['tom', 'anthony', 'bill', 'ali', 'ahir', 'ari', 'gabriel', 'nate', 'joe'])"
      ]
     },
     "execution_count": 44,
     "metadata": {},
     "output_type": "execute_result"
    }
   ],
   "source": [
    "# check if the data has been loaded or not\n",
    "data.keys()"
   ]
  },
  {
   "cell_type": "code",
   "execution_count": 46,
   "id": "0d961a6f-f96b-41c0-9bd0-33a70ad1e0ca",
   "metadata": {},
   "outputs": [
    {
     "data": {
      "text/plain": [
       "['Your Friend, Nate Bargatze (2024)\\nGenre: Comedy, Stand-up\\nDirector: Ryan Polito\\nStar: Nate Bargatze\\nPremiered on Netflix on December 24, 2024',\n",
       " 'Nate Bargatze’s 2024 Netflix stand-up special, Your Friend, Nate Bargatze, is a comedic journey through the absurdities of everyday life. With his signature deadpan delivery, Bargatze riffs on relatable topics like pizza-ordering dilemmas, domestic quirks with his frugal wife, and parenting mishaps, weaving personal anecdotes with exaggerated humor. The show opens with a spirited introduction from his daughter, setting the stage for a performance rooted in self-deprecating humor, small-town nostalgia, and sharp observations about modern absurdities. Bargatze’s storytelling shines as he recounts his days as a water meter reader, his failed attempts to manage daily routines without his wife’s guidance, and his humorous take on aging and familial dynamics.']"
      ]
     },
     "execution_count": 46,
     "metadata": {},
     "output_type": "execute_result"
    }
   ],
   "source": [
    "# double check\n",
    "data['nate'][:2]"
   ]
  },
  {
   "cell_type": "markdown",
   "id": "416e9982-76e4-4a13-84d2-1ad4d98e6040",
   "metadata": {},
   "source": [
    "## 1.4 Cleaning The Data\n",
    "When dealing with numerical data, data cleaning often involves removing null values and duplicate data, dealing with outliers etc.\\\n",
    "With text data there are some common data cleaning techniques, which are also known as text pre-processing techniques.\n",
    "\n",
    "**Common data cleaning steps on all text:**\n",
    "* Make test all lower case\n",
    "* Remove punctuation\n",
    "* Remove numerical values\n",
    "* Remove common non-sensical test (\\n)\n",
    "* Tokenize text\n",
    "* Rome stop words\n",
    "\n",
    "**More data cleaning steps after tokenizatio:**\n",
    "* Stemming/ lemmatization\n",
    "* Parts of speech tagging\n",
    "* Create bi-grams or tri-grams\n",
    "* Deal with typos\n",
    "* And more..."
   ]
  },
  {
   "cell_type": "code",
   "execution_count": 47,
   "id": "8fbeede2-f816-435c-ae33-0f1d463b2cd5",
   "metadata": {},
   "outputs": [
    {
     "data": {
      "text/plain": [
       "'tom'"
      ]
     },
     "execution_count": 47,
     "metadata": {},
     "output_type": "execute_result"
    }
   ],
   "source": [
    "# lets take a look at our data again\n",
    "next(iter(data.keys()))"
   ]
  },
  {
   "cell_type": "code",
   "execution_count": null,
   "id": "4b68a634-1f2b-4533-9089-151c24d14de9",
   "metadata": {},
   "outputs": [],
   "source": [
    "# Notice that our id currently in key: comedian and values: list of text format\n",
    "next(iter(data.values()))"
   ]
  },
  {
   "cell_type": "code",
   "execution_count": 49,
   "id": "1ff6051c-557c-4530-8a40-8b94407cc9f4",
   "metadata": {},
   "outputs": [],
   "source": [
    "def combine_text(list_of_text):\n",
    "    \"\"\"Takes a list of text and combines them into one large chunk of text.\"\"\"\n",
    "    combined = \" \".join(list_of_text)\n",
    "    return combined"
   ]
  },
  {
   "cell_type": "code",
   "execution_count": 50,
   "id": "209d990e-01aa-4456-94be-d6dbc3730b88",
   "metadata": {},
   "outputs": [],
   "source": [
    "# combine it\n",
    "data_combined = {key: [combine_text(value)] for (key, value) in data.items()}"
   ]
  },
  {
   "cell_type": "code",
   "execution_count": 51,
   "id": "9644c0fa-4fc0-42ed-8d9f-362a78704e01",
   "metadata": {},
   "outputs": [],
   "source": [
    "# put it into pandas dataframe\n",
    "import pandas as pd\n",
    "df = pd.DataFrame(data_combined).transpose()\n",
    "df.columns=['transcript']"
   ]
  },
  {
   "cell_type": "code",
   "execution_count": 52,
   "id": "0d584ba9-98c6-449e-8a43-c3dee8abccda",
   "metadata": {},
   "outputs": [
    {
     "data": {
      "text/html": [
       "<div>\n",
       "<style scoped>\n",
       "    .dataframe tbody tr th:only-of-type {\n",
       "        vertical-align: middle;\n",
       "    }\n",
       "\n",
       "    .dataframe tbody tr th {\n",
       "        vertical-align: top;\n",
       "    }\n",
       "\n",
       "    .dataframe thead th {\n",
       "        text-align: right;\n",
       "    }\n",
       "</style>\n",
       "<table border=\"1\" class=\"dataframe\">\n",
       "  <thead>\n",
       "    <tr style=\"text-align: right;\">\n",
       "      <th></th>\n",
       "      <th>transcript</th>\n",
       "    </tr>\n",
       "  </thead>\n",
       "  <tbody>\n",
       "    <tr>\n",
       "      <th>tom</th>\n",
       "      <td>[“Soul Man” by The Blues Brothers plays] [audi...</td>\n",
       "    </tr>\n",
       "    <tr>\n",
       "      <th>anthony</th>\n",
       "      <td>[crowd cheering] Thank you all for coming to t...</td>\n",
       "    </tr>\n",
       "    <tr>\n",
       "      <th>bill</th>\n",
       "      <td>Bill Maher‘s Is Anyone Else Seeing This? is a ...</td>\n",
       "    </tr>\n",
       "    <tr>\n",
       "      <th>ali</th>\n",
       "      <td>[“Get me Bodied (Extended Mix)” playing] [audi...</td>\n",
       "    </tr>\n",
       "    <tr>\n",
       "      <th>ahir</th>\n",
       "      <td>Ahir Shah: Ends (2024)\\nGenre: Stand-up Comedy...</td>\n",
       "    </tr>\n",
       "    <tr>\n",
       "      <th>ari</th>\n",
       "      <td>[lightning crashes] Every town, I figured out,...</td>\n",
       "    </tr>\n",
       "    <tr>\n",
       "      <th>gabriel</th>\n",
       "      <td>Gabriel Iglesias’ Legend of Fluffy is a lively...</td>\n",
       "    </tr>\n",
       "    <tr>\n",
       "      <th>nate</th>\n",
       "      <td>Your Friend, Nate Bargatze (2024)\\nGenre: Come...</td>\n",
       "    </tr>\n",
       "    <tr>\n",
       "      <th>joe</th>\n",
       "      <td>Joe Rogan, performing live in San Antonio, exp...</td>\n",
       "    </tr>\n",
       "  </tbody>\n",
       "</table>\n",
       "</div>"
      ],
      "text/plain": [
       "                                                transcript\n",
       "tom      [“Soul Man” by The Blues Brothers plays] [audi...\n",
       "anthony  [crowd cheering] Thank you all for coming to t...\n",
       "bill     Bill Maher‘s Is Anyone Else Seeing This? is a ...\n",
       "ali      [“Get me Bodied (Extended Mix)” playing] [audi...\n",
       "ahir     Ahir Shah: Ends (2024)\\nGenre: Stand-up Comedy...\n",
       "ari      [lightning crashes] Every town, I figured out,...\n",
       "gabriel  Gabriel Iglesias’ Legend of Fluffy is a lively...\n",
       "nate     Your Friend, Nate Bargatze (2024)\\nGenre: Come...\n",
       "joe      Joe Rogan, performing live in San Antonio, exp..."
      ]
     },
     "execution_count": 52,
     "metadata": {},
     "output_type": "execute_result"
    }
   ],
   "source": [
    "df"
   ]
  },
  {
   "cell_type": "markdown",
   "id": "04e2507c-4471-4a2d-bd21-3cf511db0f81",
   "metadata": {},
   "source": [
    "### 👆🏼 so this is `corpus`."
   ]
  },
  {
   "cell_type": "code",
   "execution_count": 76,
   "id": "f4ca211d-de3d-46bb-8387-e1b9640814c4",
   "metadata": {
    "scrolled": true
   },
   "outputs": [
    {
     "data": {
      "text/plain": [
       "'Your Friend, Nate Bargatze (2024)\\nGenre: Comedy, Stand-up\\nDirector: Ryan Polito\\nStar: Nate Bargatze\\nPremiered on Netflix on December 24, 2024 Nate Bargatze’s 2024 Netflix stand-up special, Your Friend, Nate Bargatze, is a comedic journey through the absurdities of everyday life. With his signature deadpan delivery, Bargatze riffs on relatable topics like pizza-ordering dilemmas, domestic quirks with his frugal wife, and parenting mishaps, weaving personal anecdotes with exaggerated humor. The show opens with a spirited introduction from his daughter, setting the stage for a performance rooted in self-deprecating humor, small-town nostalgia, and sharp observations about modern absurdities. Bargatze’s storytelling shines as he recounts his days as a water meter reader, his failed attempts to manage daily routines without his wife’s guidance, and his humorous take on aging and familial dynamics. The special thrives on Bargatze’s ability to find comedy in the mundane, whether it’s debating'"
      ]
     },
     "execution_count": 76,
     "metadata": {},
     "output_type": "execute_result"
    }
   ],
   "source": [
    "# lets take a look at the transcript for Nate\n",
    "df.transcript.loc['nate'][:1000]"
   ]
  },
  {
   "cell_type": "code",
   "execution_count": 54,
   "id": "885fc40d-f589-45a2-af53-962565c66b92",
   "metadata": {},
   "outputs": [],
   "source": [
    "# Apply a first round of text cleaning techniques \n",
    "import re\n",
    "import string\n",
    "\n",
    "def clean_text_round1(text):\n",
    "    \"\"\"Make text lowercase, remove text in square brackets, remove punctuation, etc.\"\"\"\n",
    "    text = text.lower()\n",
    "    text = text.replace(\"…\",\"\")\n",
    "    # Remove text inside square brackets\n",
    "    text = re.sub(r'[.*?]', '', text)\n",
    "    \n",
    "    # Remove punctuation\n",
    "    text = re.sub(r'[%s]' % re.escape(string.punctuation), '', text)\n",
    "    \n",
    "    # Remove words containing numbers\n",
    "    text = re.sub(r'\\w*\\d\\w*', '', text)\n",
    "    \n",
    "    return text\n",
    "\n",
    "round1 = lambda x : clean_text_round1(x)"
   ]
  },
  {
   "cell_type": "code",
   "execution_count": 55,
   "id": "cb4f5bf1-54d5-4b0b-8928-321ef5756e78",
   "metadata": {},
   "outputs": [
    {
     "data": {
      "text/html": [
       "<div>\n",
       "<style scoped>\n",
       "    .dataframe tbody tr th:only-of-type {\n",
       "        vertical-align: middle;\n",
       "    }\n",
       "\n",
       "    .dataframe tbody tr th {\n",
       "        vertical-align: top;\n",
       "    }\n",
       "\n",
       "    .dataframe thead th {\n",
       "        text-align: right;\n",
       "    }\n",
       "</style>\n",
       "<table border=\"1\" class=\"dataframe\">\n",
       "  <thead>\n",
       "    <tr style=\"text-align: right;\">\n",
       "      <th></th>\n",
       "      <th>transcript</th>\n",
       "    </tr>\n",
       "  </thead>\n",
       "  <tbody>\n",
       "    <tr>\n",
       "      <th>tom</th>\n",
       "      <td>“soul man” by the blues brothers plays audienc...</td>\n",
       "    </tr>\n",
       "    <tr>\n",
       "      <th>anthony</th>\n",
       "      <td>crowd cheering thank you all for coming to the...</td>\n",
       "    </tr>\n",
       "    <tr>\n",
       "      <th>bill</th>\n",
       "      <td>bill maher‘s is anyone else seeing this is a s...</td>\n",
       "    </tr>\n",
       "    <tr>\n",
       "      <th>ali</th>\n",
       "      <td>“get me bodied extended mix” playing audience ...</td>\n",
       "    </tr>\n",
       "    <tr>\n",
       "      <th>ahir</th>\n",
       "      <td>ahir shah ends \\ngenre standup comedy social c...</td>\n",
       "    </tr>\n",
       "    <tr>\n",
       "      <th>ari</th>\n",
       "      <td>lightning crashes every town i figured out eve...</td>\n",
       "    </tr>\n",
       "    <tr>\n",
       "      <th>gabriel</th>\n",
       "      <td>gabriel iglesias’ legend of fluffy is a lively...</td>\n",
       "    </tr>\n",
       "    <tr>\n",
       "      <th>nate</th>\n",
       "      <td>your friend nate bargatze \\ngenre comedy stand...</td>\n",
       "    </tr>\n",
       "    <tr>\n",
       "      <th>joe</th>\n",
       "      <td>joe rogan performing live in san antonio expre...</td>\n",
       "    </tr>\n",
       "  </tbody>\n",
       "</table>\n",
       "</div>"
      ],
      "text/plain": [
       "                                                transcript\n",
       "tom      “soul man” by the blues brothers plays audienc...\n",
       "anthony  crowd cheering thank you all for coming to the...\n",
       "bill     bill maher‘s is anyone else seeing this is a s...\n",
       "ali      “get me bodied extended mix” playing audience ...\n",
       "ahir     ahir shah ends \\ngenre standup comedy social c...\n",
       "ari      lightning crashes every town i figured out eve...\n",
       "gabriel  gabriel iglesias’ legend of fluffy is a lively...\n",
       "nate     your friend nate bargatze \\ngenre comedy stand...\n",
       "joe      joe rogan performing live in san antonio expre..."
      ]
     },
     "execution_count": 55,
     "metadata": {},
     "output_type": "execute_result"
    }
   ],
   "source": [
    "# Lets take a look at the updated text\n",
    "data_clean = pd.DataFrame(df.transcript.apply(round1))\n",
    "data_clean"
   ]
  },
  {
   "cell_type": "code",
   "execution_count": 77,
   "id": "2d7ba756-892b-45d9-9692-5af4db5a6a5c",
   "metadata": {
    "scrolled": true
   },
   "outputs": [
    {
     "data": {
      "text/plain": [
       "'your friend nate bargatze genre comedy standupdirector ryan politostar nate bargatzepremiered on netflix on december   nate bargatzes  netflix standup special your friend nate bargatze is a comedic journey through the absurdities of everyday life with his signature deadpan delivery bargatze riffs on relatable topics like pizzaordering dilemmas domestic quirks with his frugal wife and parenting mishaps weaving personal anecdotes with exaggerated humor the show opens with a spirited introduction from his daughter setting the stage for a performance rooted in selfdeprecating humor smalltown nostalgia and sharp observations about modern absurdities bargatzes storytelling shines as he recounts his days as a water meter reader his failed attempts to manage daily routines without his wifes guidance and his humorous take on aging and familial dynamics the special thrives on bargatzes ability to find comedy in the mundane whether its debating the dominance of dogs sleeping in beds or lamenting '"
      ]
     },
     "execution_count": 77,
     "metadata": {},
     "output_type": "execute_result"
    }
   ],
   "source": [
    "data_clean.transcript.loc['nate'][:1000]"
   ]
  },
  {
   "cell_type": "code",
   "execution_count": 63,
   "id": "ce2b2582-ce64-41eb-8132-8474d9ba4053",
   "metadata": {},
   "outputs": [],
   "source": [
    "def clean_text_round2(text):\n",
    "    \"\"\"Get rid of some additional punctuation, musical notes, quotes, etc.\"\"\"\n",
    "    # Remove musical notes and special characters\n",
    "    text = re.sub('[‘’“”]', '', text)\n",
    "    \n",
    "    # Remove single and double quotes\n",
    "    text = re.sub(\"[\\\"\\']\", '', text)\n",
    "    \n",
    "    # Remove additional punctuation\n",
    "    text = re.sub('\\n', '', text)\n",
    "\n",
    "    text = re.sub('♪', '', text)\n",
    "    \n",
    "    return text\n",
    "\n",
    "# Lambda function for round2 cleaning\n",
    "round2 = lambda x: clean_text_round2(x)"
   ]
  },
  {
   "cell_type": "code",
   "execution_count": 64,
   "id": "ca1ac918-0a95-4ac7-aa13-8a980301cebe",
   "metadata": {},
   "outputs": [
    {
     "data": {
      "text/html": [
       "<div>\n",
       "<style scoped>\n",
       "    .dataframe tbody tr th:only-of-type {\n",
       "        vertical-align: middle;\n",
       "    }\n",
       "\n",
       "    .dataframe tbody tr th {\n",
       "        vertical-align: top;\n",
       "    }\n",
       "\n",
       "    .dataframe thead th {\n",
       "        text-align: right;\n",
       "    }\n",
       "</style>\n",
       "<table border=\"1\" class=\"dataframe\">\n",
       "  <thead>\n",
       "    <tr style=\"text-align: right;\">\n",
       "      <th></th>\n",
       "      <th>transcript</th>\n",
       "    </tr>\n",
       "  </thead>\n",
       "  <tbody>\n",
       "    <tr>\n",
       "      <th>tom</th>\n",
       "      <td>soul man by the blues brothers plays audience ...</td>\n",
       "    </tr>\n",
       "    <tr>\n",
       "      <th>anthony</th>\n",
       "      <td>crowd cheering thank you all for coming to the...</td>\n",
       "    </tr>\n",
       "    <tr>\n",
       "      <th>bill</th>\n",
       "      <td>bill mahers is anyone else seeing this is a sh...</td>\n",
       "    </tr>\n",
       "    <tr>\n",
       "      <th>ali</th>\n",
       "      <td>get me bodied extended mix playing audience ch...</td>\n",
       "    </tr>\n",
       "    <tr>\n",
       "      <th>ahir</th>\n",
       "      <td>ahir shah ends genre standup comedy social com...</td>\n",
       "    </tr>\n",
       "    <tr>\n",
       "      <th>ari</th>\n",
       "      <td>lightning crashes every town i figured out eve...</td>\n",
       "    </tr>\n",
       "    <tr>\n",
       "      <th>gabriel</th>\n",
       "      <td>gabriel iglesias legend of fluffy is a lively ...</td>\n",
       "    </tr>\n",
       "    <tr>\n",
       "      <th>nate</th>\n",
       "      <td>your friend nate bargatze genre comedy standup...</td>\n",
       "    </tr>\n",
       "    <tr>\n",
       "      <th>joe</th>\n",
       "      <td>joe rogan performing live in san antonio expre...</td>\n",
       "    </tr>\n",
       "  </tbody>\n",
       "</table>\n",
       "</div>"
      ],
      "text/plain": [
       "                                                transcript\n",
       "tom      soul man by the blues brothers plays audience ...\n",
       "anthony  crowd cheering thank you all for coming to the...\n",
       "bill     bill mahers is anyone else seeing this is a sh...\n",
       "ali      get me bodied extended mix playing audience ch...\n",
       "ahir     ahir shah ends genre standup comedy social com...\n",
       "ari      lightning crashes every town i figured out eve...\n",
       "gabriel  gabriel iglesias legend of fluffy is a lively ...\n",
       "nate     your friend nate bargatze genre comedy standup...\n",
       "joe      joe rogan performing live in san antonio expre..."
      ]
     },
     "execution_count": 64,
     "metadata": {},
     "output_type": "execute_result"
    }
   ],
   "source": [
    "# Lets take a look at the updated text\n",
    "data_clean = pd.DataFrame(data_clean.transcript.apply(round2))\n",
    "data_clean"
   ]
  },
  {
   "cell_type": "code",
   "execution_count": 78,
   "id": "ce3ae315-cd0d-42cd-a603-612cf67a9bc4",
   "metadata": {
    "scrolled": true
   },
   "outputs": [
    {
     "data": {
      "text/plain": [
       "'your friend nate bargatze genre comedy standupdirector ryan politostar nate bargatzepremiered on netflix on december   nate bargatzes  netflix standup special your friend nate bargatze is a comedic journey through the absurdities of everyday life with his signature deadpan delivery bargatze riffs on relatable topics like pizzaordering dilemmas domestic quirks with his frugal wife and parenting mishaps weaving personal anecdotes with exaggerated humor the show opens with a spirited introduction from his daughter setting the stage for a performance rooted in selfdeprecating humor smalltown nostalgia and sharp observations about modern absurdities bargatzes storytelling shines as he recounts his days as a water meter reader his failed attempts to manage daily routines without his wifes guidance and his humorous take on aging and familial dynamics the special thrives on bargatzes ability to find comedy in the mundane whether its debating the dominance of dogs sleeping in beds or lamenting '"
      ]
     },
     "execution_count": 78,
     "metadata": {},
     "output_type": "execute_result"
    }
   ],
   "source": [
    "data_clean.transcript.loc['nate'][:1000]"
   ]
  },
  {
   "cell_type": "markdown",
   "id": "b3b51f56-6e35-48fd-a54d-9e8a60e7f181",
   "metadata": {},
   "source": [
    "**NOTE:** This data cleaning aka text pre-processing step could go on for a while, but we are going to stop for now. \\\n",
    "After going through some analysis techniques, if you see that the results don't make sense or could be improved, you can come back and make some edits such as:\n",
    "* Mark 'cheering' and 'cheer' as the same word (`stemming/lemmatization`)\n",
    "* Combine 'thank you' into one term (bi-grams)\n",
    "* And a lot more..."
   ]
  },
  {
   "cell_type": "markdown",
   "id": "d190cc41-2f30-48be-9256-a31d1fae6096",
   "metadata": {},
   "source": [
    "## 1.5  Organizing The Data\n",
    "These are two types of data formats:\n",
    "1. `Corpus` - a collection text\n",
    "2. `DTM` - word counts in matrix format"
   ]
  },
  {
   "cell_type": "markdown",
   "id": "e59de4f3-0881-4419-8dce-8999092ce00d",
   "metadata": {},
   "source": [
    "### 1.5.1 Corpus\n",
    "It is a collection of texts, and they are all put together neatly in a pandas dataframe."
   ]
  },
  {
   "cell_type": "code",
   "execution_count": 66,
   "id": "91f7fc43-efcc-4172-93e2-67de0f06ec5b",
   "metadata": {},
   "outputs": [
    {
     "data": {
      "text/html": [
       "<div>\n",
       "<style scoped>\n",
       "    .dataframe tbody tr th:only-of-type {\n",
       "        vertical-align: middle;\n",
       "    }\n",
       "\n",
       "    .dataframe tbody tr th {\n",
       "        vertical-align: top;\n",
       "    }\n",
       "\n",
       "    .dataframe thead th {\n",
       "        text-align: right;\n",
       "    }\n",
       "</style>\n",
       "<table border=\"1\" class=\"dataframe\">\n",
       "  <thead>\n",
       "    <tr style=\"text-align: right;\">\n",
       "      <th></th>\n",
       "      <th>transcript</th>\n",
       "    </tr>\n",
       "  </thead>\n",
       "  <tbody>\n",
       "    <tr>\n",
       "      <th>tom</th>\n",
       "      <td>[“Soul Man” by The Blues Brothers plays] [audi...</td>\n",
       "    </tr>\n",
       "    <tr>\n",
       "      <th>anthony</th>\n",
       "      <td>[crowd cheering] Thank you all for coming to t...</td>\n",
       "    </tr>\n",
       "    <tr>\n",
       "      <th>bill</th>\n",
       "      <td>Bill Maher‘s Is Anyone Else Seeing This? is a ...</td>\n",
       "    </tr>\n",
       "    <tr>\n",
       "      <th>ali</th>\n",
       "      <td>[“Get me Bodied (Extended Mix)” playing] [audi...</td>\n",
       "    </tr>\n",
       "    <tr>\n",
       "      <th>ahir</th>\n",
       "      <td>Ahir Shah: Ends (2024)\\nGenre: Stand-up Comedy...</td>\n",
       "    </tr>\n",
       "    <tr>\n",
       "      <th>ari</th>\n",
       "      <td>[lightning crashes] Every town, I figured out,...</td>\n",
       "    </tr>\n",
       "    <tr>\n",
       "      <th>gabriel</th>\n",
       "      <td>Gabriel Iglesias’ Legend of Fluffy is a lively...</td>\n",
       "    </tr>\n",
       "    <tr>\n",
       "      <th>nate</th>\n",
       "      <td>Your Friend, Nate Bargatze (2024)\\nGenre: Come...</td>\n",
       "    </tr>\n",
       "    <tr>\n",
       "      <th>joe</th>\n",
       "      <td>Joe Rogan, performing live in San Antonio, exp...</td>\n",
       "    </tr>\n",
       "  </tbody>\n",
       "</table>\n",
       "</div>"
      ],
      "text/plain": [
       "                                                transcript\n",
       "tom      [“Soul Man” by The Blues Brothers plays] [audi...\n",
       "anthony  [crowd cheering] Thank you all for coming to t...\n",
       "bill     Bill Maher‘s Is Anyone Else Seeing This? is a ...\n",
       "ali      [“Get me Bodied (Extended Mix)” playing] [audi...\n",
       "ahir     Ahir Shah: Ends (2024)\\nGenre: Stand-up Comedy...\n",
       "ari      [lightning crashes] Every town, I figured out,...\n",
       "gabriel  Gabriel Iglesias’ Legend of Fluffy is a lively...\n",
       "nate     Your Friend, Nate Bargatze (2024)\\nGenre: Come...\n",
       "joe      Joe Rogan, performing live in San Antonio, exp..."
      ]
     },
     "execution_count": 66,
     "metadata": {},
     "output_type": "execute_result"
    }
   ],
   "source": [
    "# lets see the corpus data\n",
    "df"
   ]
  },
  {
   "cell_type": "code",
   "execution_count": 67,
   "id": "f44a60b2-ac8f-4c96-a5ce-87bc5cffb2cc",
   "metadata": {},
   "outputs": [],
   "source": [
    "# Lets pickle it for later use\n",
    "df.to_pickle('data/corpus.pkl')"
   ]
  },
  {
   "cell_type": "markdown",
   "id": "b4daa96c-0d52-4260-bb3f-0f738a068f19",
   "metadata": {},
   "source": [
    "### 1.5.2 Documen-Term Matrix (DTM)\n",
    "The text must be tokenized, meaning broken down into smaller pieces. The most common tokenizer technique is to break down text into words. We can do this using scikit-learn's `CountVectorizer`, where every row will represent a different document and every column will represent a different word.\n",
    "\n",
    "In addition, with `CountVectorizer`, we can remove stop words. **Stop words** are common words that add no additional meaning to text such as 'a', 'the', etc."
   ]
  },
  {
   "cell_type": "code",
   "execution_count": 68,
   "id": "968cc7d3-56ad-4f85-ad44-71318c71219f",
   "metadata": {},
   "outputs": [],
   "source": [
    "# create a DTM\n",
    "from sklearn.feature_extraction.text import CountVectorizer\n",
    "\n",
    "# Initialize the CountVectorizer with English stop words\n",
    "vectorizer = CountVectorizer(stop_words='english')\n",
    "\n",
    "# Fit the vectorizer to the data and transform it into a document-term matrix\n",
    "data_cv = vectorizer.fit_transform(data_clean.transcript)\n",
    "\n",
    "# Convert the document-term matrix into a DataFrame\n",
    "data_dtm = pd.DataFrame(data_cv.toarray())\n",
    "\n",
    "# Set the DataFrame index to match the original data index\n",
    "data_dtm.index = data_clean.index\n",
    "\n",
    "# Get feature names using the vocabulary_ attribute\n",
    "feature_names = list(vectorizer.vocabulary_.keys())\n",
    "\n",
    "# Set the DataFrame columns to be the feature names\n",
    "data_dtm.columns = feature_names"
   ]
  },
  {
   "cell_type": "code",
   "execution_count": 70,
   "id": "8a265116-a56c-4f05-a0e1-4272678d0a58",
   "metadata": {},
   "outputs": [
    {
     "data": {
      "text/plain": [
       "(9, 6507)"
      ]
     },
     "execution_count": 70,
     "metadata": {},
     "output_type": "execute_result"
    }
   ],
   "source": [
    "data_dtm.shape"
   ]
  },
  {
   "cell_type": "code",
   "execution_count": 71,
   "id": "eba44d49-f7c9-4f3b-a430-effcb9663a44",
   "metadata": {},
   "outputs": [],
   "source": [
    "# Lets pickle it for later use\n",
    "data_dtm.to_pickle('data/dtm.pkl')"
   ]
  },
  {
   "cell_type": "code",
   "execution_count": 72,
   "id": "4be04f2f-78e8-4a18-9cbd-19cd6c57a357",
   "metadata": {},
   "outputs": [],
   "source": [
    "# Pickle the cleaned data for later use\n",
    "data_clean.to_pickle('data/data_clean.pkl')\n",
    "\n",
    "# Pickle the CountVectorizer for later use\n",
    "with open('data/vectorizer.pkl', 'wb') as file:\n",
    "    pickle.dump(vectorizer, file)"
   ]
  },
  {
   "cell_type": "markdown",
   "id": "b128070e-b351-4360-b29d-f775b662fe2c",
   "metadata": {},
   "source": [
    "## 1.6 Additionl text processing\n",
    "```python\n",
    "from sklearn.feature_extraction.text import CountVectorizer\n",
    "\n",
    "# Initialize the CountVectorizer with custom parameters\n",
    "vectorizer = CountVectorizer(\n",
    "    ngram_range=(1, 2),  # Extract unigrams and bigrams\n",
    "    min_df=5,            # Ignore terms that appear in fewer than 5 documents\n",
    "    max_df=0.8           # Ignore terms that appear in more than 80% of the documents\n",
    ")\n",
    "```\n"
   ]
  },
  {
   "cell_type": "code",
   "execution_count": null,
   "id": "db752982-0a50-4b90-8ca7-a651f73d7290",
   "metadata": {},
   "outputs": [],
   "source": []
  }
 ],
 "metadata": {
  "kernelspec": {
   "display_name": "ml",
   "language": "python",
   "name": "ml"
  },
  "language_info": {
   "codemirror_mode": {
    "name": "ipython",
    "version": 3
   },
   "file_extension": ".py",
   "mimetype": "text/x-python",
   "name": "python",
   "nbconvert_exporter": "python",
   "pygments_lexer": "ipython3",
   "version": "3.12.4"
  }
 },
 "nbformat": 4,
 "nbformat_minor": 5
}
