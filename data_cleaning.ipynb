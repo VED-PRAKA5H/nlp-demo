{
 "cells": [
  {
   "cell_type": "markdown",
   "id": "fbd07408-c9ad-4287-afe4-cdd38e788c10",
   "metadata": {},
   "source": [
    "# 1 Data Cleaning "
   ]
  },
  {
   "cell_type": "markdown",
   "id": "c2a0009b-1a77-48b2-9573-7d92b32fd482",
   "metadata": {},
   "source": [
    "## 1.1 Introduction\n",
    "we will be walking through:\n",
    "1. Getting the data\n",
    "2. Cleaning the data\n",
    "3. Organizing the data\n",
    "   \n",
    "The output of this notebook will be clean, organized data in two standard text formats:\n",
    "1. **Corpus** - a collection of text\n",
    "2. **Document Text Matrix** - word counts in matrix format"
   ]
  },
  {
   "cell_type": "markdown",
   "id": "223ddd48-6b59-4980-bb7e-3aae8781ba2e",
   "metadata": {},
   "source": [
    "## 1.2 Problem Statement\n",
    "How someone speech is different than othes?"
   ]
  },
  {
   "cell_type": "markdown",
   "id": "afe0a254-46fb-4f3a-b380-9d84a286d14f",
   "metadata": {},
   "source": [
    "## 1.3 Getting The Data\n",
    "Get routine of comedian who has imdb rating greater or equal than 7.5/10 and more than 2000 votes.\\\n",
    "Do scraping from the [SCRAPS FROM THE LOFT](https://scrapsfromtheloft.com/comedy/your-friend-nate-bargatze-transcript/)"
   ]
  },
  {
   "cell_type": "code",
   "execution_count": 2,
   "id": "387e6419-7fb0-4a45-8dfb-b9790bf3c7a0",
   "metadata": {},
   "outputs": [],
   "source": [
    "# Web scraping, pickle imports\n",
    "import requests\n",
    "from bs4 import BeautifulSoup\n",
    "import pickle"
   ]
  },
  {
   "cell_type": "code",
   "execution_count": 40,
   "id": "6bc9cdf5-a61d-4c96-b3c5-bb92a6033d2a",
   "metadata": {},
   "outputs": [],
   "source": [
    "def url_to_transcript(url):\n",
    "    \"\"\"Return transcript data specifically from scrapsfromloft.com\"\"\"\n",
    "    page = requests.get(url).text\n",
    "    soup = BeautifulSoup(page, 'html')\n",
    "    text = [p.text for p in soup.find_all('p')]\n",
    "    print(url)\n",
    "    return text\n",
    "\n",
    "# URLs of transcripts in scope\n",
    "urls = [\n",
    "    'https://scrapsfromtheloft.com/comedy/tom-papa-home-free-transcript/',\n",
    "    'https://scrapsfromtheloft.com/comedy/anthony-jeselnik-bones-and-all-transcript/',\n",
    "    'https://scrapsfromtheloft.com/comedy/bill-maher-is-anyone-else-seeing-this-transcript/',\n",
    "    'https://scrapsfromtheloft.com/comedy/ali-wong-single-lady-transcript/',\n",
    "    'https://scrapsfromtheloft.com/comedy/ahir-shah-ends-transcript/',\n",
    "    'https://scrapsfromtheloft.com/comedy/ari-shaffir-americas-sweetheart-transcript/',\n",
    "    'https://scrapsfromtheloft.com/comedy/gabriel-iglesias-legend-of-fluffy-2025-transcript/',\n",
    "    'https://scrapsfromtheloft.com/comedy/your-friend-nate-bargatze-transcript/',\n",
    "    'https://scrapsfromtheloft.com/comedy/joe-rogan-burn-the-boats-transcript/'\n",
    "]\n",
    "comedians = ['tom', 'anthony', 'bill', 'ali', 'ahir', 'ari', 'gabriel', 'nate', 'joe']\n",
    "minutes_runs = [62, 51, 66, 59, 61, 75, 101, 63, 67]"
   ]
  },
  {
   "cell_type": "code",
   "execution_count": 41,
   "id": "4838e061-cade-446d-b4de-ae854e537579",
   "metadata": {},
   "outputs": [
    {
     "name": "stdout",
     "output_type": "stream",
     "text": [
      "https://scrapsfromtheloft.com/comedy/tom-papa-home-free-transcript/\n",
      "https://scrapsfromtheloft.com/comedy/anthony-jeselnik-bones-and-all-transcript/\n",
      "https://scrapsfromtheloft.com/comedy/bill-maher-is-anyone-else-seeing-this-transcript/\n",
      "https://scrapsfromtheloft.com/comedy/ali-wong-single-lady-transcript/\n",
      "https://scrapsfromtheloft.com/comedy/ahir-shah-ends-transcript/\n",
      "https://scrapsfromtheloft.com/comedy/ari-shaffir-americas-sweetheart-transcript/\n",
      "https://scrapsfromtheloft.com/comedy/gabriel-iglesias-legend-of-fluffy-2025-transcript/\n",
      "https://scrapsfromtheloft.com/comedy/your-friend-nate-bargatze-transcript/\n",
      "https://scrapsfromtheloft.com/comedy/joe-rogan-burn-the-boats-transcript/\n"
     ]
    }
   ],
   "source": [
    "# this will take some time to scrape\n",
    "transcripts = [url_to_transcript(u) for u in urls]"
   ]
  },
  {
   "cell_type": "code",
   "execution_count": 42,
   "id": "585135d8-51c3-47e4-8b45-8885473a2429",
   "metadata": {},
   "outputs": [],
   "source": [
    "data = dict()\n",
    "for i, c in enumerate(comedians):\n",
    "    data[c] = transcripts[i]"
   ]
  },
  {
   "cell_type": "code",
   "execution_count": 6,
   "id": "b88c6c3f-7f2a-4a40-972b-286894025cc4",
   "metadata": {},
   "outputs": [],
   "source": [
    "# pickle files for later use\n",
    "# make a new directory to hold the text files\n",
    "# import os\n",
    "# os.mkdir('data')"
   ]
  },
  {
   "cell_type": "code",
   "execution_count": 43,
   "id": "35a4b4f2-aa7a-4a87-83ec-9038ef341a71",
   "metadata": {},
   "outputs": [],
   "source": [
    "# Save the dictionary to a pickle file\n",
    "with open('data/data.pickle', 'wb') as file:\n",
    "    pickle.dump(data, file)"
   ]
  },
  {
   "cell_type": "code",
   "execution_count": 44,
   "id": "7b4ffffd-cdb3-476b-8b64-75ac49ad947c",
   "metadata": {},
   "outputs": [
    {
     "data": {
      "text/plain": [
       "dict_keys(['tom', 'anthony', 'bill', 'ali', 'ahir', 'ari', 'gabriel', 'nate', 'joe'])"
      ]
     },
     "execution_count": 44,
     "metadata": {},
     "output_type": "execute_result"
    }
   ],
   "source": [
    "# check if the data has been loaded or not\n",
    "data.keys()"
   ]
  },
  {
   "cell_type": "code",
   "execution_count": 46,
   "id": "0d961a6f-f96b-41c0-9bd0-33a70ad1e0ca",
   "metadata": {},
   "outputs": [
    {
     "data": {
      "text/plain": [
       "['Your Friend, Nate Bargatze (2024)\\nGenre: Comedy, Stand-up\\nDirector: Ryan Polito\\nStar: Nate Bargatze\\nPremiered on Netflix on December 24, 2024',\n",
       " 'Nate Bargatze’s 2024 Netflix stand-up special, Your Friend, Nate Bargatze, is a comedic journey through the absurdities of everyday life. With his signature deadpan delivery, Bargatze riffs on relatable topics like pizza-ordering dilemmas, domestic quirks with his frugal wife, and parenting mishaps, weaving personal anecdotes with exaggerated humor. The show opens with a spirited introduction from his daughter, setting the stage for a performance rooted in self-deprecating humor, small-town nostalgia, and sharp observations about modern absurdities. Bargatze’s storytelling shines as he recounts his days as a water meter reader, his failed attempts to manage daily routines without his wife’s guidance, and his humorous take on aging and familial dynamics.']"
      ]
     },
     "execution_count": 46,
     "metadata": {},
     "output_type": "execute_result"
    }
   ],
   "source": [
    "# double check\n",
    "data['nate'][:2]"
   ]
  },
  {
   "cell_type": "markdown",
   "id": "416e9982-76e4-4a13-84d2-1ad4d98e6040",
   "metadata": {},
   "source": [
    "## 1.4 Cleaning The Data\n",
    "When dealing with numerical data, data cleaning often involves removing null values and duplicate data, dealing with outliers etc.\\\n",
    "With text data there are some common data cleaning techniques, which are also known as text pre-processing techniques.\n",
    "\n",
    "**Common data cleaning steps on all text:**\n",
    "* Make test all lower case\n",
    "* Remove punctuation\n",
    "* Remove numerical values\n",
    "* Remove common non-sensical test (\\n)\n",
    "* Tokenize text\n",
    "* Rome stop words\n",
    "\n",
    "**More data cleaning steps after tokenizatio:**\n",
    "* Stemming/ lemmatization\n",
    "* Parts of speech tagging\n",
    "* Create bi-grams or tri-grams\n",
    "* Deal with typos\n",
    "* And more..."
   ]
  },
  {
   "cell_type": "code",
   "execution_count": 47,
   "id": "8fbeede2-f816-435c-ae33-0f1d463b2cd5",
   "metadata": {},
   "outputs": [
    {
     "data": {
      "text/plain": [
       "'tom'"
      ]
     },
     "execution_count": 47,
     "metadata": {},
     "output_type": "execute_result"
    }
   ],
   "source": [
    "# lets take a look at our data again\n",
    "next(iter(data.keys()))"
   ]
  },
  {
   "cell_type": "code",
   "execution_count": null,
   "id": "4b68a634-1f2b-4533-9089-151c24d14de9",
   "metadata": {},
   "outputs": [],
   "source": [
    "# Notice that our id currently in key: comedian and values: list of text format\n",
    "next(iter(data.values()))"
   ]
  },
  {
   "cell_type": "code",
   "execution_count": 49,
   "id": "1ff6051c-557c-4530-8a40-8b94407cc9f4",
   "metadata": {},
   "outputs": [],
   "source": [
    "def combine_text(list_of_text):\n",
    "    \"\"\"Takes a list of text and combines them into one large chunk of text.\"\"\"\n",
    "    combined = \" \".join(list_of_text)\n",
    "    return combined"
   ]
  },
  {
   "cell_type": "code",
   "execution_count": 50,
   "id": "209d990e-01aa-4456-94be-d6dbc3730b88",
   "metadata": {},
   "outputs": [],
   "source": [
    "# combine it\n",
    "data_combined = {key: [combine_text(value)] for (key, value) in data.items()}"
   ]
  },
  {
   "cell_type": "code",
   "execution_count": 51,
   "id": "9644c0fa-4fc0-42ed-8d9f-362a78704e01",
   "metadata": {},
   "outputs": [],
   "source": [
    "# put it into pandas dataframe\n",
    "import pandas as pd\n",
    "df = pd.DataFrame(data_combined).transpose()\n",
    "df.columns=['transcript']"
   ]
  },
  {
   "cell_type": "code",
   "execution_count": 52,
   "id": "0d584ba9-98c6-449e-8a43-c3dee8abccda",
   "metadata": {},
   "outputs": [
    {
     "data": {
      "text/html": [
       "<div>\n",
       "<style scoped>\n",
       "    .dataframe tbody tr th:only-of-type {\n",
       "        vertical-align: middle;\n",
       "    }\n",
       "\n",
       "    .dataframe tbody tr th {\n",
       "        vertical-align: top;\n",
       "    }\n",
       "\n",
       "    .dataframe thead th {\n",
       "        text-align: right;\n",
       "    }\n",
       "</style>\n",
       "<table border=\"1\" class=\"dataframe\">\n",
       "  <thead>\n",
       "    <tr style=\"text-align: right;\">\n",
       "      <th></th>\n",
       "      <th>transcript</th>\n",
       "    </tr>\n",
       "  </thead>\n",
       "  <tbody>\n",
       "    <tr>\n",
       "      <th>tom</th>\n",
       "      <td>[“Soul Man” by The Blues Brothers plays] [audi...</td>\n",
       "    </tr>\n",
       "    <tr>\n",
       "      <th>anthony</th>\n",
       "      <td>[crowd cheering] Thank you all for coming to t...</td>\n",
       "    </tr>\n",
       "    <tr>\n",
       "      <th>bill</th>\n",
       "      <td>Bill Maher‘s Is Anyone Else Seeing This? is a ...</td>\n",
       "    </tr>\n",
       "    <tr>\n",
       "      <th>ali</th>\n",
       "      <td>[“Get me Bodied (Extended Mix)” playing] [audi...</td>\n",
       "    </tr>\n",
       "    <tr>\n",
       "      <th>ahir</th>\n",
       "      <td>Ahir Shah: Ends (2024)\\nGenre: Stand-up Comedy...</td>\n",
       "    </tr>\n",
       "    <tr>\n",
       "      <th>ari</th>\n",
       "      <td>[lightning crashes] Every town, I figured out,...</td>\n",
       "    </tr>\n",
       "    <tr>\n",
       "      <th>gabriel</th>\n",
       "      <td>Gabriel Iglesias’ Legend of Fluffy is a lively...</td>\n",
       "    </tr>\n",
       "    <tr>\n",
       "      <th>nate</th>\n",
       "      <td>Your Friend, Nate Bargatze (2024)\\nGenre: Come...</td>\n",
       "    </tr>\n",
       "    <tr>\n",
       "      <th>joe</th>\n",
       "      <td>Joe Rogan, performing live in San Antonio, exp...</td>\n",
       "    </tr>\n",
       "  </tbody>\n",
       "</table>\n",
       "</div>"
      ],
      "text/plain": [
       "                                                transcript\n",
       "tom      [“Soul Man” by The Blues Brothers plays] [audi...\n",
       "anthony  [crowd cheering] Thank you all for coming to t...\n",
       "bill     Bill Maher‘s Is Anyone Else Seeing This? is a ...\n",
       "ali      [“Get me Bodied (Extended Mix)” playing] [audi...\n",
       "ahir     Ahir Shah: Ends (2024)\\nGenre: Stand-up Comedy...\n",
       "ari      [lightning crashes] Every town, I figured out,...\n",
       "gabriel  Gabriel Iglesias’ Legend of Fluffy is a lively...\n",
       "nate     Your Friend, Nate Bargatze (2024)\\nGenre: Come...\n",
       "joe      Joe Rogan, performing live in San Antonio, exp..."
      ]
     },
     "execution_count": 52,
     "metadata": {},
     "output_type": "execute_result"
    }
   ],
   "source": [
    "df"
   ]
  },
  {
   "cell_type": "markdown",
   "id": "04e2507c-4471-4a2d-bd21-3cf511db0f81",
   "metadata": {},
   "source": [
    "### 👆🏼 so this is `corpus`."
   ]
  },
  {
   "cell_type": "code",
   "execution_count": 53,
   "id": "f4ca211d-de3d-46bb-8387-e1b9640814c4",
   "metadata": {
    "scrolled": true
   },
   "outputs": [
    {
     "data": {
      "text/plain": [
       "\"Your Friend, Nate Bargatze (2024)\\nGenre: Comedy, Stand-up\\nDirector: Ryan Polito\\nStar: Nate Bargatze\\nPremiered on Netflix on December 24, 2024 Nate Bargatze’s 2024 Netflix stand-up special, Your Friend, Nate Bargatze, is a comedic journey through the absurdities of everyday life. With his signature deadpan delivery, Bargatze riffs on relatable topics like pizza-ordering dilemmas, domestic quirks with his frugal wife, and parenting mishaps, weaving personal anecdotes with exaggerated humor. The show opens with a spirited introduction from his daughter, setting the stage for a performance rooted in self-deprecating humor, small-town nostalgia, and sharp observations about modern absurdities. Bargatze’s storytelling shines as he recounts his days as a water meter reader, his failed attempts to manage daily routines without his wife’s guidance, and his humorous take on aging and familial dynamics. The special thrives on Bargatze’s ability to find comedy in the mundane, whether it’s debating the dominance of dogs sleeping in beds or lamenting the complexities of fast-food drive-throughs. His observations on generational quirks, from his parents’ idiosyncrasies to his own aging mishaps, resonate universally. The show crescendos with his musings on societal advancements, juxtaposed with his small-town upbringing, culminating in laugh-out-loud reflections on AI, modern hotels, and outdated services like wake-up calls. Through it all, Bargatze maintains a warm and engaging rapport with his audience, delivering a feel-good hour of humor that blends sharp wit with heartfelt relatability. * * * [crowd cheering] [“Sunday Best” by Surfaces playing] Please welcome my daddy, Nate Bargatze! ♪ Feeling good, like I should ♪ [crowd cheering] ♪ Went and took a walk Around the neighborhood ♪ ♪ Feeling blessed, never stressed ♪ ♪ Got that sunshine On my Sunday best, yeah… ♪ I love you. ♪ Every day can be a better day Despite the challenge ♪ ♪ All you gotta do is leave it Better than you found it ♪ ♪ It’s gonna get difficult to stand But hold your balance ♪ ♪ I just say whatever ‘Cause there is no way around it ♪ Thank you. Thank you. [crowd cheering] Phoenix, thank you so much. That was so good. [crowd continues cheering] [Nate] Thanks. Thank you. [cheering continues] Thank you. Thank you. Thank you. Thank you. Thank you. That’s very nice. [crowd whooping] This is it. We’re doing it. Uh… So… My… I love… Look, I love doing stand-up comedy. I love it. And the job I had, the last serious job, the job I will go back to when all this falls apart… [crowd laughing] I was a water meter reader. [scattered cheering] Thank you. This job was… The title was the description of what you do. [crowd laughing] People would ask, I’d go, “I’m a water meter reader.” “Yeah, what’s that?” Let me tell you what it is, all right? We’re going to read water meters. That’s the… That’s 100% of the job. So back when I did it, it was in Wilson County, Mt. Juliet, Tennessee. And so, back when I did it, I would have to park the truck, and like get out in the neighborhood. Like, run through a neighborhood, and type in how much water every house uses. So it’s 2001. Obviously, 9/11 happens. If you’re old enough, you remember when 9/11 happened, the whole country got very scared there was going to be more attacks. Well, we did as well in Wilson County. We figured, they just went to New York, obvious next stop, Mt. Juliet, Tennessee. [crowd laughing] And they are going to poison our town’s water. So they got all of us water meter readers to guard the water tanks. I really did this. I stood… just in a dark field, alone, waiting for the Taliban to show up. No weapons, no training. They gave us a lantern. A lantern! That does nothing but shows your body as you hold it up. I can’t see two feet in front of me. If someone’s got a gun, they’re like, “Shoot at the only light in that field.” I’m going to put it over my heart to see. I’m like, “What’s going on?” I mean, I think, like, to this day, I’ve always said, what did they want us to do? Call the Mt. Juliet Police? “Osama is here.” “He got past our lanterns.” “He’s in the water tank. He knew how to open that. We were…” “We were surprised by that, but he knew what he was doing.” My wife was with me when I had that job. She’s been with me way before where we’re at right now. She was in it for the benefits I got at the water company. Uh… [Nate chuckles] We have, uh… So we’ve been married 17 years. [crowd cheering] Thank you. And, uh, I know… You know, the longer I’m married, the more I realize why she was put in my life. I would not be here if she was not in my life. I know all of this. Now, I’ve also become very reliant on her because of this. I don’t know anything about me. Like… I don’t know what I like and don’t like to eat. [crowd laughing] I mean, someone would be like, “You want to try this?” And I got to get her involved. I’m like, “I don’t think so.” I don’t know how long to microwave something. I have to ask her every time, as if her family invented the microwave. “How long do we microwave this for?” And she’s like, “Do it till it’s hot.” It’s like, “But I know you know a number. You know, just…” “Just say the number. I don’t…” “I’m either gonna call my mom, or you’re gonna tell me the number.” If she doesn’t tell me, I type in 90 minutes and I walk away. [Nate laughs] I do do my own laundry. [crowd cheering] Thanks. Thank you. I think that’s what it deserves. My mom did my dad’s laundry growing up, so I thought all wives do husbands’ laundry. And I’ve always done my own, and to be honest, I felt it had been forgotten about over these past 17 years. The sacrifice I was making that other husbands didn’t have to make. One day, I was driving home and it popped in my head, and I was like, “All right, I’ll bring that up.” I mean, I didn’t bring it up that day, you know? I was like, I’m sure there will be a time where we’ll be in some fight, I’ll be losing this fight… and then, I mean, I just come, I’m like, “I do my own laundry!” She’s like, “Fight’s over!” “You win. I forgot how good I got it.” So I sit on it for, like, six months, like a long… [laughs] We finally get in a fight. I don’t remember what the fight was about. Nothing. I don’t know. It wasn’t laundry. I remember that. So, I’m losing this fight. And so, in my head I’m like, “This is it.” I mean, honestly, I was sad to see it go. That’s how good I felt. I felt bad for her. I mean… I was like, “She thinks she’s winning this fight.” “I’m about to drop a bomb on her right now.” [crowd laughing] So just out of nowhere, I just go, “I do my own laundry!” And I said it like, “They don’t make them like this no more.” I was shocked that it started a second fight I never saw coming. [crowd laughing, applauding] [Nate laughs] Thanks. We do laundry very differently. She’ll read the labels, I’ll wash a rug and a suit together. I’m… I don’t know. “You wanna put your shoes in there? Put your shoes.” The washing machine’s always a foot from the wall when I get done. [chuckles] It’s like, “That was a lot of stuff you put in there.” You know? Yeah. “And look, it’s almost all wet.” I travel a lot. Obviously. So she’ll be at home with our daughter. We have a wonderful daughter, as you have seen. And… [crowd cheering] But I know it’s hard. You know, she’s home, my wife has to be the mom and the dad, and the good and the bad parent. You know, and I come home and I’m super fun. Or I’ll mess up the routine. This is just stuff she tells me. And… [crowd laughing] Like, I’ll go… When I go home, I’ll lay in bed with our daughter and then we get in trouble for talking. I’m not the one talking, by the way. But we get yelled at as if I’m the one talking. I do get it, because I don’t think of the consequences with everything. Like, we have one dog. I would like another dog. My wife does not want another dog, because it’s a lot. It’s a lot to have two dogs, ’cause you got to open the back door and let two dogs out. [crowd laughing] Then you shut it, and now… now they’re out there. You’re inside, not dealing with it, but… But then they want to come back in and you’re like, [grumpily] “Got to go let all these dogs back in.” You’re like, “One dog, two… Look at all these dogs everywhere.” Look, I… To be honest, I’ve never taken care of the one dog we have, but… Two? Two would be fun. Our dog sleeps in our bed, and someone told me you’re not supposed to do that, ’cause you lose dominance over the dog. And, you know, I asked him, I said, “What year do you think it is?” These are all doodles. They’re barely dogs. It’s a person. They’re people. This guy acts like it’s 1980 when you kept the dog outside all year. Those, you needed dominance over. You had a wolf in the backyard. Friends come over. “You want to go outside?” “I wouldn’t.” She’s the cheaper one of us, as well. Not in a bad way, you know. She likes the lights being off. Turn the lights off, you know, save money. Turn the… Get the lights. All the lights off, it’s a fun time, being in that environment. Turn the light on, find your seat. Get a stick, knock the light back off. Sit in the dark and be sad and just be… just sad all day. But you’re saving nickels upon nickels. Right when I get in bed, “You turn that light off?” “I can’t tell if that’s on.” “Well, get out of bed, turn it off.” Eighty years, we’ll give our daughter the $37 from all the nickels we saved. All right, look, I can be wasteful. Like, if something gets to the bottom, I will throw it away. Ketchup. If ketchup gets, like, that much left, I’m like, “Bleh.” She will put the old ketchup with the new ketchup. That way your ketchup’s always gross. [crowd laughing] Toothpaste. I will use it to what I think the average person uses it to. I don’t think I should feel muscles trying to get it out. I’m not going to have an iron on top of it. But she’ll do it more. So I know when I’m done with it, I give it to the hobo I married. She cuts it, gets it all out. I married an old man from the Depression, is who I married. She would have thrived during the Depression. I don’t think she would’ve known there was a Depression. A pizza party is my nightmare. I’ll have friends over for pizza. So I’ll be like, “All right, we gotta order pizza.” And she goes, “How much?” I go, “Order the most.” “I don’t want to run out of pizza in front of my friends.” She goes, “Just call and ask them.” I go, “I can’t call these 40-year-old dudes and just be like, ‘How much pizza do you think you’re gonna eat tonight?'” They have a real… They have a family. They work in a building, right now. You want me to call and be like, “You have a big lunch today?” “No, we’re trying to save money, so I need to know exactly how much pizza you’re going to eat in eight hours.” I just want to buy stuff and her not know I bought it, and… that’s so hard. I think if I knew the name of my bank, I could do it. But I got to go through her to get that information. I poke around, I’ll be like, “If I had a bank, what bank do you think I would go to?” I also, once a week, walk into a bank and go, “Hello, is my money in this bank?” She has to get me out of stuff all the time. If I buy something and it doesn’t fit, I’ll never take it back. I’m embarrassed. I’m pretty sure it’s going to be the exact same people. And they remember me. And right when I walk in, they’ll be like, “We knew you couldn’t handle that shirt.” She takes back groceries to the grocery store. [incredulously] Yeah. Food. I… Honestly, I don’t think it’s allowed. I… Honest. I think she’s bullying these 15-year-old children. They don’t know what to do. Their mom walks in being like, “Your bananas got weird too quick.” And they’re like, “What?” “You picked them out. They’re not mine. What are you talking about?” “I’m gonna change them. I’mma go change them out.” “Yeah, that lady is stealing bananas.” Recently, I was walking to my car and I had a college kid come up and he was raising money, uh… You know, for nature. Or it was for Earth. It was nature and Earth. Uh… I don’t know. He used real words. But it was, you know, basically… I felt he even looked at me, like, “It’s going to Earth.” I was like, “Yeah. Well, Earth is going through it right now.” So… He was telling me everything Earth is going through. You know, it’s pollution. He said, “Our water’s being poisoned.” You know, I said, “Not under my watch, but I understand.” [crowd laughing, cheering] I think I was buying a tree, I don’t really know. But I tried to give him cash and he was like, “Oh, you got to do a credit card.” I was like, “Okay.” So, I give a random iPad all my family information. It was $75. So he, like, swipes the card, and then after it goes through, he goes, “Just so you know, it’s a monthly charge.” [crowd gasps] Yeah. [chuckles] Yeah. He told me after. And he was like, “Look, you can cancel it on the website.” I was like, “I don’t know what’s going on right now.” He goes, “Put your email down for the receipt.” I was like, “All right.” I just put my wife’s email address down. Guess who’s going to put a stop to this real fast? [crowd laughing, cheering] She’ll have that tree cut down tomorrow. I called her, ’cause I have to call her when I sign us up for stuff, and… [chuckles] She answered the phone, just goes, “I’m on it.” Hung up. She runs everything. She does stuff, doesn’t tell me. We got a new roof, and I did not know that. A whole new roof, I found out from my neighbors. They were like, “How’s that new roof going?” I go, “I don’t know what you’re talking about.” And they go, “You didn’t know you got a new roof?” I go, “No, I did not.” And then I had to go get her, I was like, “You gotta go talk about that new roof you didn’t tell me about.” “I looked like an idiot out there.” We live… So, in our neighborhood, we live in a cul-de-sac, which is very exciting, because I grew up on a straight street… and I always dreamed of living in a cul-de-sac. You see them and you’re like, “Can you imagine being up in one of those?” We do all the cul-de-sac stuff, you know. Like, if anybody comes down there, we’re like, “What are you doing down…” Just, any car. We’re like, “You better get out of our cul-de-sac.” We take our trash out, uh… one of the days. I don’t know the day, but it’s a day. We’re doing it. There is one day. I know we forgot to take it out a couple weeks ago. That stress could break up a family. All week was like, “Everybody, eat out of your hands.” We had friends over, “Put your trash in your pockets, take it to your homes.” We got very lucky with our neighbors. Our neighbors are super cool, and we’re very close with them. Uh, they all have real jobs. They, like, went to college and stuff. And… one of them is a management consultant, so he manages all the consultants and… Yeah, it’s a tough job. All right? There’s a lot of consultants and he’s like, “You better get back.” You know? “You can’t…” “Just can’t consult up in here.” So, he’s busy. Our other neighbor’s an actuary. I thought that was with birds. I was like, “What’s that bird right there?” He goes, “I don’t know.” And I was like… [crowd laughing, cheering] “As an actuary, you don’t know what that bird is right there?” I went to career day for my daughter’s school, and, like, I get what I do is very fun, but I was nervous, ’cause I’m there with real people and they’re smart, and… So I was hoping to sit at a table alone. They put me at a table with a surgeon. Which I… I think they did it on purpose. Almost to show the kids, “Here’s the difference between reading.” [crowd laughing, cheering] So the kids, like, come up, you know, and they’re like, “What subjects do you use for comedy?” And I was like, I don’t even know what subjects they’re taking. Uh… I was like, “I do English. I do mostly English onstage.” They asked him, “How long do you go to school to be a surgeon?” You know, and he’s like, “54 years,” or whatever. It’s like… They asked me, they’re like, “How long to be a comedian?” I was like, “You’re good now.” So… “Look, finish elementary school, make your parents happy, but then I’d get out and get after it.” I had a hard time in school. There was… I got… I barely graduated, got into a community college, barely got into a college they have to let everybody in. I went to community college for one year, I have zero credits. Community college, a lot of people don’t know, is college when they’re like, “You’re probably going to stay in your community. So…” “We’re just going to show you the ropes around town.” “Kind of give you a lay of the land.” That whole year, I don’t have credits, because I had to take remedial classes. Which remedial is basically for… They’re classes for someone my age now trying to go back to school because they don’t remember school. And I took them right out of school. I just… They’re like, “You don’t remember school?” I was like, “I just came from school.” They go, “It looks like you’ve never heard about it.” Everybody in there was, like, 50. I’m like, “Well, who’s the teacher?” “I think you have to tell me if I ask. Who’s the teacher?” I took such basic… I took Speech. In college. I’d go… I would ride there with my friends, going to a business class or something. Whatever you go to. I was like, “All right, I’ll catch you after Speech.” And I still say a lot of words wrong, that’s what I don’t understand. I say, uh, “Poim.” “Poim.” Which no one ever knows. Uh, poem. Like… Yeah. P-O-E-M. I go, “poim.” Well, fix that, Speech class. What if I want to be a “poim” writer? What if I have a lot of great “poim” ideas? And no one takes me serious, ’cause I’m like, “Listen to my poims.” “Ol.” I say, “Ol.” A super Southern one. Uh… Oil. I don’t even know how to say it. Like, to y’all. Oil. O-I-L. Yeah. Yes. [laughs] I go, “Motor ol.” Like, “Tinfol.” I mean, Southern community college, that should be mandatory that they fix that. They should write O-I-L on the board, and I just go, “Ol.” They go, “We’re gonna take care of that. All right?” “There’s a pretty good chance you’re gonna be working with a lot of that.” “Silver War.” That’s how I say it. Instead of “Civil.” I go, “Silver War.” Because… You know? Look, that might be on me. All right? I’m not… I’ll tell you, I don’t even know anything about the “Silver War.” I don’t know anything about history. And I can tell, because every history movie I watch, I watch on the edge of my seat. [laughing, applause] “What is gonna happen?” I watched Pearl Harbor. I was just as surprised as they were, you know? I don’t read. Yeah, and I think that matters. Reading is the key to smart, I believe. And… I don’t do it. I think it’s caught up to me. I want to do it. I like the idea of reading. I even buy books, but these books are the most words. And… It’s every book. You just open it and you’re like, “What are you talking about?” It… I mean… And they don’t let up. Every page, just more words. How about you put some blank pages in there? Why don’t you let me get my head above water for two seconds? [crowd laughing, applauding] My eyes can read good. It’s my brain. My eyes are such good readers. I feel so bad, ’cause they’re attached to this dumb brain. I mean, they’re looking at these words, they’re like, “You’re not getting any of this, man?” “That’s the fifth time we’ve read that sentence. Let’s try another one.” Fiction, non-fiction. I don’t know which one’s the truth. I read every book as the truth is how I handle it. From what I can tell, we have a pretty big wizard problem in this country right now. We went to… Like, we went to Europe last year. And by the way, on the way to… We were flying from Nashville to London, and we go, uh… It was 4:42 p.m. Nashville time. So as a game, as a family, I said, “Let’s guess what time it is in London.” So I said 12:42 a.m. Our daughter said 1:42 a.m. My wife, her guess was 11. And that’s it. Yeah, she didn’t say the 42. And, I was like, “Just say the 42.” She goes, “You know what I mean.” I go, “I know, but just… show our daughter you know what a normal person would say.” That started a pretty big fight. If you go to Europe, just so you know, uh… it’s the most old. It’s very old. You think we’re old, and you get there and you’re like, “Good night.” Uh… “What have y’all been doing over here?” You just walk around, they’re like, “That building is from 8.” You’re like, “Good golly.” Went to Australia as well. Australia’s very far away. I’m going to tell you, our Earth is bigger than I thought it was. We flew 16 hours, over 500 miles an hour. Barely made it. Barely. I think we went the wrong way, as well. I had jet lag there. I did not mind it, ’cause I woke up early. I woke up at 5:45 a.m., and I don’t ever wake up that early. So I was, like, first in line at the breakfast buffet. Here’s what I will tell you, when you get up at 5:45 a.m. noon is pretty far away. I mean, you will bet your life it’s noon, and it’s maybe 8:30. By 6:00 p.m., it’s like, “How are people out?” “Why won’t the sun go down?” That’s the next phase of my life, getting up early, you know? We’re starting. We get up at 9:15 a little bit. Yeah. You know. I’ve never seen my daughter go to school, but I’ve been close. I’m cold now too, that I’m old. Forty-five. I just get cold, I always have to bring a jacket. It could be 135 degrees outside and I will walk around with a jacket. And I see these young people, and I just think, “Where are your jackets?” My body’s falling apart. My… My shoulder hurts, ’cause I stand onstage like this. It’s crazy. This was a huge mistake to get into this. If I had known that this would be a big problem, I would have probably tried to not make it a habit. My body can’t handle this. And I went to the doctor to try to fix it… I mean, they talked to me like I was an old car. He goes, “I wouldn’t put any more money into it, to be honest.” I pulled a muscle recently, I guess it was in my soul. I mean, it was dead middle of my body… I thought it was the front. Then I was like, “Well, my back hurts too.” You know? So… Well, what’s in the middle? What muscle is in the middle? I went hiking. I jumped off a rock. I mean, a foot high. When I landed, it felt what I would imagine being struck by lightning feels like. I felt it through my fingernails. Fifty-fifty if my zipper’s up or down anymore. It’s a true flip of the coin. I don’t know what’s happening. I’ve zipped up my whole life. And now, just head out, like, “All right, see you boys later.” Just head out. Take my pants off at home. They come off easy. I’m like, “Ah, that was four hours I was walking around like…” I think it’s ’cause I’m peeing so much longer. And I’m not used to this new old rhythm yet. ‘Cause in your 40s, there’s a lot of false stops. You learn pretty quick to be like, “Let’s hang back.” “Let’s let traffic thin out a little bit.” I watch young people come and go. I’m like, “Tell my family I’m okay.” Food is still… I still have a problem with food. I… I love processed food. I love it. I’m a farm-factory-table guy. [crowd laughing, cheering] I want… I want the most hands involved in my food. It’s coming to an end. You can feel… I can feel it. I can’t do it anymore. It really hurts. I… You know, and I tell myself, like, “I’ve done it. I was…” Yeah, my jersey would be retired of eating fast food. I’ve done all the stuff. I’ve had Taco Bell and threw it away in my neighbor’s trash so my wife didn’t find out. I used so much ketchup once at a restaurant, that a stranger walked up to me and goes, “That’s a lot of ketchup.” Do you know how much ketchup you got to use? That guy doesn’t want to get involved, you know? But he sees it. I mean, his wife’s like, “Let it go.” He’s like, “I think I got to say something. I don’t…” “I don’t think he knows that we’re all… No one’s using that much ketchup.” I went to a McDonald’s drive-through and my window did not roll down. That’s the universe saying, “Give it a rest.” And I fought through it. It’s embarrassing, because they can tell, because I had to pull past… Because I got to open my door, so it’s going to hit the speaker. So I gotta drive by it. So the car behind me is like, “Are you leaving?” I’m like, “My window don’t roll down.” And I got to open the door. Now the speaker is by the gas tank. So I gotta yell my order out. Now that guy hears it. And then I look at McDonald’s screen, well, they got it all on the board, just let the neighborhood know what I’m ordering. And then I drove by the window, the drive-through window, and I got to go by it, ’cause I got to open my whole door. So I go by it, and I see them, they’re like, “Where are you going?” I was like, “Nowhere.” And I go by, and they see my whole body sitting in a chair. It’s crazy. If you’ve never done it, it’s the most vulnerable I ever felt in my life. Just… You’re just sitting there, and you’re like, “Hi.” They see your feet. They see your feet. They just throw it at me like a bear, just throw it. Our family, we just eat a lot of fast food. Our family text thread, my dad texted, he was like, “I found a way to get a Big Mac cheaper.” And he said, “You can order a double cheeseburger and ask for Big Mac sauce.” So he goes, “It’s cheaper, and they get rid of that third bun, so it’s Atkins.” Uh… That’s how you do it. That third bun is the one you’re like, “I don’t know if I need the third bun.” My parents are getting older, they’re not super old, but they’re at the age where, you know, if they trip, they will fall to the ground. There’s just an age where it hap… I mean… Like, if I trip, my body hasn’t touched the ground in 40 years. But for them, it’s just, I don’t know. It’s like the upper is like, “We’re going.” And… the lower is like, “What?” And it’s just… Boom. And I mean, there’s no, like, “Whoa.” It’s just, they don’t even know what’s happening. They’re just looking at you and you’re like, “You’re not feeling any of this?” And they hit the ground so hard. It’s like they got thrown off a roof. Everybody hears it, they’re like, “What’s going on?” I’m like, “My parents are down!” “I got to get ’em up.” “My mom’s got a bruise that won’t go away for two years.” I just walk ahead of them now. I’m like a Sherpa. Just let them know the terrain that we’re about to hit. “Got a little carpet coming up.” “Got a little carpet. When we go outside, a little brighter than inside.” “Yeah, and cobblestone. You ain’t gonna make that. So…” “Lay down. Lay down on the carpet.” “I’m gonna back the car up in the building.” We had my mom go pick up our daughter recently at a friend’s house, and I texted her the address, and she drove to the wrong house. She knocked on the door, another grandmother answered. Well, this is no good. This is like two dogs seeing each other through a fence. It’s gonna be hard to get them both back inside. So, my mom, she goes, “Is my granddaughter there?” And the other lady goes, “I have three grandsons.” No solution. Just two grandmothers. “You have… You have stuff? I have stuff too.” They talked for 30 minutes. It’s the wrong door! I had to go get my daughter, then find my mom. And wives are the ones that keep it together the longest in a relationship. If you see an old married couple, like, 80-year-old… They’re 80, the wife is just… She’s with it. And her husband’s like, “Where are we at right now?” Like, he… I mean, our brains fall off a cliff, dude. Like, they’re… The only reason he’s out is because she’s like, “You better get out and let people see you a little bit.” It’s like some zookeeper walking some old gorilla around. “Let the kids touch you.” Everybody’s trying to feed him. “Don’t feed him that.” “I think he wants it.” “He definitely wants it. He’s too dumb to know he can’t have it.” My dad goes to the hospital all the time. I mean, he… He has surgery eight times a year, probably. He loves it. He loves it. The doctor will go, “Look, you could just stretch.” And he goes, “Let’s just do the surgery.” He had surgery ’cause he was addicted to Afrin, the nose spray. Yeah. Look, I… I got addicted to Afrin as well. I would honestly tell you, if you don’t know what it is, I would tell you not to get involved. It’s one of the best things I’ve ever been part of. When I was on it too, my wife was furious. I had to try to hide it from her. She could hear it from three blocks away. Just one little puff, “What’s that?” “I ain’t gonna live like this!” “I ain’t work this hard not to do Afrin in my own home.” So my dad, they go to the doctor, him and my mom. And the doctor was like, “Do you use Afrin?” And my dad goes, “No.” And the doctor was like, “I can tell that you use it.” “I was just saying that.” So… He goes, “How long have you used it?” And my dad said, “Five years.” Which is a lie. And my mom, she’s like, “Well, tell the truth.” You know, she goes, “He’s used it for 45 years.” He used Afrin 45 years. Just for reference, if you don’t know, the back of the box suggests no more than three days. I mean, there’s not a medicine on Earth that tells you to give it a good 45-year run. I think about my parents a lot because, I mean, the world is getting very futuristic. And, like them, I’m from the 1900s. You got to watch out for the 1900s people. We’re old. [crowd cheering] It’s so… I mean, my great-aunt Helen from the ’30s. She’s deaf. They didn’t know she was deaf back then. The doctors, they had no idea. They were baffled. That’s how… That’s how good doctors were back then. They just said… They looked at her as they smoked in her face. These were real doctors. They were like, “I don’t know.” “She’s rude. I’ll tell you that.” I mean, I think what I saw growing up… I mean, we would go watch… My dad’s a magician. So we would go watch my dad do magic at the Wilson County Fair. County fairs are great. If you never… They’re still going around. I don’t think the government knows about them, but… I mean, we ride these rides that were on the interstate an hour ago. So we would go watch my dad. So my dad would do magic. Right next to him, they had a donkey jumping off a high dive into a pool. So pretty hard to keep everybody’s attention. When my dad is like, “Is this your card?” And everybody’s like, “This donkey’s about to jump off this high dive.” That’s something you don’t think you wanna see, till it’s up there. And I use the word “jump” very loosely. These donkeys are falling off this high dive. But you can’t put that on the sign, you know? “You gonna watch a donkey fall off a high dive?” “No.” “Okay.” “What if he jumped?” “Well, at least he’s into it.” So the donkey would go up this ramp, like, 40 feet in the air. And it would just stand there ’cause it doesn’t want to jump. It’s not in on this, so… But it gets stuck ’cause donkeys can’t walk backwards. Not positive if that is true, but I… I’ve never seen a donkey go backwards. I’ve never even really looked, but I honestly think, 45 years, I would have seen a couple donkeys go backwards. So the donkey stands there, and a dog, he sends a dog up the ramp, it barks at the donkey and the donkey jumps in the pool. And as someone that has seen this, I tell you, when that donkey hits the water, you’re like, “We should probably get out of here. Uh…” It’s not as fun as you thought it would be. I mean, this is going to sound dumb, but you’re really surprised you’re seeing what the sign said you would see. PETA got a hold of that. They shut it down. And that was one I think everybody was like, “Fair enough, we get that.” Another one PETA had to shut down, this was again, like, the 1980s. I was alive. You could fight an orangutan at a fair. They would have an orangutan just sitting in a boxing ring and guys would pay to fight it. And I say “guys,” because I just can’t imagine one woman ever fought this orangutan. I think you can put an orangutan in a room with a thousand women, and when they walked out, like, “Did anybody fight it?” “It never crossed our mind to fight it.” [crowd laughing] [crowd cheering] Put three men in that room, two of those men will fight that orangutan. The other one would’ve started it, going, “I think y’all should fight that orangutan.” So, guys get in there and they’re like, “All right, we’ll go fight this orangutan.” And the orangutan would just knock everybody out. Because we don’t have the internet to look up, “How strong is an orangutan?” It’s all word-of-mouth back then. You had to meet a guy that just fought an orangutan. You’re like, “But the arms are skinny.” He’s like, “I know. That’s what made me get in there as well.” [crowd laughing, applauding] So PETA put a stop to that also. Yeah. Look, whatever you want to say about PETA, they did some real work in the 1900s. There’s… The first… One of the first things they had to do, car manufacturers, before crash test dummies were invented, they would use a pig in a car wreck. So they sit a pig I guess upright. And this little pig… Pigs are smart. Pretty good day for this pig. It’s like, “You gonna let me drive a car?” Pretty fun, pretty fun day. He’s got his elbow out. “Are y’all kidding me right now? You gonna let me drive this car?” I don’t even know what that shows you. Pigs don’t have necks. That’s what I was around when I was growing up. I mean, I look at my daughter, and I have more in common with a Pilgrim. And Pilgrims believed in witches. Little side note, I would like to say, I think the witch phase was the toughest phase for women to have to go through. Not to get serious, but a lot of people say voting. I disagree. I think it’s witch, then voting. I think it’s witch, pretty big gap, then, you know, voting. You jaywalk back then, the whole town’s like, “There’s a witch.” You’re like, “Here we go. Here we go!” And I’ll give it to ’em, because they could’ve flown away, but none of them ever did. [chuckles] All right, sorry. That… Look. Just trying to get a witch joke in, it’s pretty complicated. There’s a lot of moving parts. You got to bring up Pilgrims somehow. I took a typing class in seventh grade. That’s how… [crowd applauding, whooping] And I thought it was a waste of my time. I… In my head, I was like, “Who’s going to be typing?” “Cursive is the future.” [crowd laughing, applauding] That’s why I… ‘Cause the future… I don’t know what’s going… I don’t know technology. I don’t know what AI is. I don’t think you get to know what AI is and also see a donkey jump off a high dive. I think it was one or the other, and I saw the donkey, so I’m out. If I send an email and it says the file is too big, I don’t know what to do. My best guess is… I try to resend it. That’s what I try to… You know how dumb that is? The computer’s like, “No.” And I go, “What about now, though?” Hotels are getting futuristic. A lot of hotels, when I stay at, now, when you take a shower, they have half a glass. So, it’s open. So the water gets on the floor. Because that’s the future. They want water on the floor. And I’m old and dumb, I come… You know, we really tried to keep the water inside the tub. It was a pretty big deal, but now, they want the floors wet, that’s what they want. They want to do no glass, but I’m still alive, so they’re like, “All right, do half a glass.” “Once that guy’s gone, we’ll do no glass, floors are wet, drains off the balcony.” When I first started going on the road, I would have to do a wake-up call. That’s how I got up in the morning. I’d have to call a guy I don’t know, and just be like, “Will you wake me up tomorrow?” [crowd laughing, applauding] That’s the last person I would talk to, was him. I would call my wife, then a man I’ve never seen. “You promise you gonna wake me up tomorrow?” We would tell each other good night. So no one’s done a wake-up call in probably 20 years now. So this guy on the road with us, he’s 24 years old, he’s never done a wake-up call in his life. And so, we’re staying at a hotel, and he saw the wake-up call on the phone. And he goes, “I’m going to do a wake-up call.” And I told him, I go, “Don’t do it.” “I mean, that’s like an ashtray on an airplane.” He was like, “No, I want to do it.” “All right.” So he set it up. Next morning, his phone rings, he doesn’t answer the phone. He doesn’t know that’s the main part of your job. You gotta answer the phone and let the guy know you’re awake. So then that guy, who’s young too probably, is like, “I guess I got to go knock on the door.” “I’ve never even seen this service used so it must be the most important person alive.” So he goes up and he starts knocking on the door. My buddy still doesn’t answer the door. So the guy goes in the room. I swear this is real, ’cause look, this is two young people, they don’t know what they’re doing. So he goes in the room, like, “Do I have to touch this guy?” “Is that what a wake-up call is?” “I gotta touch a guy I’ve never seen, in the dark?” So I’d imagine he started making noises, just going, “Hep. Hey, now! Hep!” “Hep, hep, hep. Hep!” Hoping he doesn’t have to touch this man. But he had to touch him. I swear, that’s what he told me. He woke up to another guy going, “Hey, buddy.” “It’s time to wake up.” Thank you so much. [crowd cheering] ♪ Feeling good, like I should ♪ [“Sunday Best” by Surfaces playing] ♪ Went and took a walk Around the neighborhood ♪ ♪ Feeling blessed, never stressed ♪ ♪ Got that sunshine On my Sunday best, yeah ♪ ♪ Every day can be a better day Despite the challenge ♪ ♪ All you gotta do is leave it Better than you found it ♪ ♪ It’s gonna get difficult to stand But hold your balance ♪ ♪ I just say whatever ‘Cause there is no way around it ♪ ♪ Everyone falls down sometimes ♪ ♪ But you just gotta know It’ll all be fine ♪ ♪ It’s okay ♪ [dramatic jingle playing] Your email address will not be published. Required fields are marked * Name* Email* Website  \\n\\n Comedian Ari Shaffir tackles controversial topics like terrorism, gun violence, racism, and more in his stand-up special. With a darkly humorous approach, he explores unexpected perspectives on sensitive social and political issues. Gabriel Iglesias’ Legend of Fluffy celebrates his 27-year career, blending sharp humor with personal stories about fame, societal norms, cultural identity, and life lessons, while staying true to his comedic mission of entertainment over offense. Bill Maher’s special critiques woke culture, political extremes, and societal absurdities with sharp humor, urging open dialogue amid polarizing times. Michelle Buteau’s latest special falls flat, with humor that feels strained and moments that drag where they should sparkle. The material lacks the sharpness and  © 2024 Scraps from the Loft. All rights reserved. Get the best articles once a week directly to your inbox!\""
      ]
     },
     "execution_count": 53,
     "metadata": {},
     "output_type": "execute_result"
    }
   ],
   "source": [
    "# lets take a look at the transcript for Nate\n",
    "df.transcript.loc['nate']"
   ]
  },
  {
   "cell_type": "code",
   "execution_count": 54,
   "id": "885fc40d-f589-45a2-af53-962565c66b92",
   "metadata": {},
   "outputs": [],
   "source": [
    "# Apply a first round of text cleaning techniques \n",
    "import re\n",
    "import string\n",
    "\n",
    "def clean_text_round1(text):\n",
    "    \"\"\"Make text lowercase, remove text in square brackets, remove punctuation, etc.\"\"\"\n",
    "    text = text.lower()\n",
    "    text = text.replace(\"…\",\"\")\n",
    "    # Remove text inside square brackets\n",
    "    text = re.sub(r'[.*?]', '', text)\n",
    "    \n",
    "    # Remove punctuation\n",
    "    text = re.sub(r'[%s]' % re.escape(string.punctuation), '', text)\n",
    "    \n",
    "    # Remove words containing numbers\n",
    "    text = re.sub(r'\\w*\\d\\w*', '', text)\n",
    "    \n",
    "    return text\n",
    "\n",
    "round1 = lambda x : clean_text_round1(x)"
   ]
  },
  {
   "cell_type": "code",
   "execution_count": 55,
   "id": "cb4f5bf1-54d5-4b0b-8928-321ef5756e78",
   "metadata": {},
   "outputs": [
    {
     "data": {
      "text/html": [
       "<div>\n",
       "<style scoped>\n",
       "    .dataframe tbody tr th:only-of-type {\n",
       "        vertical-align: middle;\n",
       "    }\n",
       "\n",
       "    .dataframe tbody tr th {\n",
       "        vertical-align: top;\n",
       "    }\n",
       "\n",
       "    .dataframe thead th {\n",
       "        text-align: right;\n",
       "    }\n",
       "</style>\n",
       "<table border=\"1\" class=\"dataframe\">\n",
       "  <thead>\n",
       "    <tr style=\"text-align: right;\">\n",
       "      <th></th>\n",
       "      <th>transcript</th>\n",
       "    </tr>\n",
       "  </thead>\n",
       "  <tbody>\n",
       "    <tr>\n",
       "      <th>tom</th>\n",
       "      <td>“soul man” by the blues brothers plays audienc...</td>\n",
       "    </tr>\n",
       "    <tr>\n",
       "      <th>anthony</th>\n",
       "      <td>crowd cheering thank you all for coming to the...</td>\n",
       "    </tr>\n",
       "    <tr>\n",
       "      <th>bill</th>\n",
       "      <td>bill maher‘s is anyone else seeing this is a s...</td>\n",
       "    </tr>\n",
       "    <tr>\n",
       "      <th>ali</th>\n",
       "      <td>“get me bodied extended mix” playing audience ...</td>\n",
       "    </tr>\n",
       "    <tr>\n",
       "      <th>ahir</th>\n",
       "      <td>ahir shah ends \\ngenre standup comedy social c...</td>\n",
       "    </tr>\n",
       "    <tr>\n",
       "      <th>ari</th>\n",
       "      <td>lightning crashes every town i figured out eve...</td>\n",
       "    </tr>\n",
       "    <tr>\n",
       "      <th>gabriel</th>\n",
       "      <td>gabriel iglesias’ legend of fluffy is a lively...</td>\n",
       "    </tr>\n",
       "    <tr>\n",
       "      <th>nate</th>\n",
       "      <td>your friend nate bargatze \\ngenre comedy stand...</td>\n",
       "    </tr>\n",
       "    <tr>\n",
       "      <th>joe</th>\n",
       "      <td>joe rogan performing live in san antonio expre...</td>\n",
       "    </tr>\n",
       "  </tbody>\n",
       "</table>\n",
       "</div>"
      ],
      "text/plain": [
       "                                                transcript\n",
       "tom      “soul man” by the blues brothers plays audienc...\n",
       "anthony  crowd cheering thank you all for coming to the...\n",
       "bill     bill maher‘s is anyone else seeing this is a s...\n",
       "ali      “get me bodied extended mix” playing audience ...\n",
       "ahir     ahir shah ends \\ngenre standup comedy social c...\n",
       "ari      lightning crashes every town i figured out eve...\n",
       "gabriel  gabriel iglesias’ legend of fluffy is a lively...\n",
       "nate     your friend nate bargatze \\ngenre comedy stand...\n",
       "joe      joe rogan performing live in san antonio expre..."
      ]
     },
     "execution_count": 55,
     "metadata": {},
     "output_type": "execute_result"
    }
   ],
   "source": [
    "# Lets take a look at the updated text\n",
    "data_clean = pd.DataFrame(df.transcript.apply(round1))\n",
    "data_clean"
   ]
  },
  {
   "cell_type": "code",
   "execution_count": 57,
   "id": "2d7ba756-892b-45d9-9692-5af4db5a6a5c",
   "metadata": {
    "scrolled": true
   },
   "outputs": [
    {
     "data": {
      "text/plain": [
       "'your friend nate bargatze \\ngenre comedy standup\\ndirector ryan polito\\nstar nate bargatze\\npremiered on netflix on december   nate bargatze’s  netflix standup special your friend nate bargatze is a comedic journey through the absurdities of everyday life with his signature deadpan delivery bargatze riffs on relatable topics like pizzaordering dilemmas domestic quirks with his frugal wife and parenting mishaps weaving personal anecdotes with exaggerated humor the show opens with a spirited introduction from his daughter setting the stage for a performance rooted in selfdeprecating humor smalltown nostalgia and sharp observations about modern absurdities bargatze’s storytelling shines as he recounts his days as a water meter reader his failed attempts to manage daily routines without his wife’s guidance and his humorous take on aging and familial dynamics the special thrives on bargatze’s ability to find comedy in the mundane whether it’s debating the dominance of dogs sleeping in beds or lamenting the complexities of fastfood drivethroughs his observations on generational quirks from his parents’ idiosyncrasies to his own aging mishaps resonate universally the show crescendos with his musings on societal advancements juxtaposed with his smalltown upbringing culminating in laughoutloud reflections on ai modern hotels and outdated services like wakeup calls through it all bargatze maintains a warm and engaging rapport with his audience delivering a feelgood hour of humor that blends sharp wit with heartfelt relatability    crowd cheering “sunday best” by surfaces playing please welcome my daddy nate bargatze ♪ feeling good like i should ♪ crowd cheering ♪ went and took a walk around the neighborhood ♪ ♪ feeling blessed never stressed ♪ ♪ got that sunshine on my sunday best yeah ♪ i love you ♪ every day can be a better day despite the challenge ♪ ♪ all you gotta do is leave it better than you found it ♪ ♪ it’s gonna get difficult to stand but hold your balance ♪ ♪ i just say whatever ‘cause there is no way around it ♪ thank you thank you crowd cheering phoenix thank you so much that was so good crowd continues cheering nate thanks thank you cheering continues thank you thank you thank you thank you thank you that’s very nice crowd whooping this is it we’re doing it uh so my i love look i love doing standup comedy i love it and the job i had the last serious job the job i will go back to when all this falls apart crowd laughing i was a water meter reader scattered cheering thank you this job was the title was the description of what you do crowd laughing people would ask i’d go “i’m a water meter reader” “yeah what’s that” let me tell you what it is all right we’re going to read water meters that’s the that’s  of the job so back when i did it it was in wilson county mt juliet tennessee and so back when i did it i would have to park the truck and like get out in the neighborhood like run through a neighborhood and type in how much water every house uses so it’s  obviously  happens if you’re old enough you remember when  happened the whole country got very scared there was going to be more attacks well we did as well in wilson county we figured they just went to new york obvious next stop mt juliet tennessee crowd laughing and they are going to poison our town’s water so they got all of us water meter readers to guard the water tanks i really did this i stood just in a dark field alone waiting for the taliban to show up no weapons no training they gave us a lantern a lantern that does nothing but shows your body as you hold it up i can’t see two feet in front of me if someone’s got a gun they’re like “shoot at the only light in that field” i’m going to put it over my heart to see i’m like “what’s going on” i mean i think like to this day i’ve always said what did they want us to do call the mt juliet police “osama is here” “he got past our lanterns” “he’s in the water tank he knew how to open that we were” “we were surprised by that but he knew what he was doing” my wife was with me when i had that job she’s been with me way before where we’re at right now she was in it for the benefits i got at the water company uh nate chuckles we have uh so we’ve been married  years crowd cheering thank you and uh i know you know the longer i’m married the more i realize why she was put in my life i would not be here if she was not in my life i know all of this now i’ve also become very reliant on her because of this i don’t know anything about me like i don’t know what i like and don’t like to eat crowd laughing i mean someone would be like “you want to try this” and i got to get her involved i’m like “i don’t think so” i don’t know how long to microwave something i have to ask her every time as if her family invented the microwave “how long do we microwave this for” and she’s like “do it till it’s hot” it’s like “but i know you know a number you know just” “just say the number i don’t” “i’m either gonna call my mom or you’re gonna tell me the number” if she doesn’t tell me i type in  minutes and i walk away nate laughs i do do my own laundry crowd cheering thanks thank you i think that’s what it deserves my mom did my dad’s laundry growing up so i thought all wives do husbands’ laundry and i’ve always done my own and to be honest i felt it had been forgotten about over these past  years the sacrifice i was making that other husbands didn’t have to make one day i was driving home and it popped in my head and i was like “all right i’ll bring that up” i mean i didn’t bring it up that day you know i was like i’m sure there will be a time where we’ll be in some fight i’ll be losing this fight and then i mean i just come i’m like “i do my own laundry” she’s like “fight’s over” “you win i forgot how good i got it” so i sit on it for like six months like a long laughs we finally get in a fight i don’t remember what the fight was about nothing i don’t know it wasn’t laundry i remember that so i’m losing this fight and so in my head i’m like “this is it” i mean honestly i was sad to see it go that’s how good i felt i felt bad for her i mean i was like “she thinks she’s winning this fight” “i’m about to drop a bomb on her right now” crowd laughing so just out of nowhere i just go “i do my own laundry” and i said it like “they don’t make them like this no more” i was shocked that it started a second fight i never saw coming crowd laughing applauding nate laughs thanks we do laundry very differently she’ll read the labels i’ll wash a rug and a suit together i’m i don’t know “you wanna put your shoes in there put your shoes” the washing machine’s always a foot from the wall when i get done chuckles it’s like “that was a lot of stuff you put in there” you know yeah “and look it’s almost all wet” i travel a lot obviously so she’ll be at home with our daughter we have a wonderful daughter as you have seen and crowd cheering but i know it’s hard you know she’s home my wife has to be the mom and the dad and the good and the bad parent you know and i come home and i’m super fun or i’ll mess up the routine this is just stuff she tells me and crowd laughing like i’ll go when i go home i’ll lay in bed with our daughter and then we get in trouble for talking i’m not the one talking by the way but we get yelled at as if i’m the one talking i do get it because i don’t think of the consequences with everything like we have one dog i would like another dog my wife does not want another dog because it’s a lot it’s a lot to have two dogs ’cause you got to open the back door and let two dogs out crowd laughing then you shut it and now now they’re out there you’re inside not dealing with it but but then they want to come back in and you’re like grumpily “got to go let all these dogs back in” you’re like “one dog two look at all these dogs everywhere” look i to be honest i’ve never taken care of the one dog we have but two two would be fun our dog sleeps in our bed and someone told me you’re not supposed to do that ’cause you lose dominance over the dog and you know i asked him i said “what year do you think it is” these are all doodles they’re barely dogs it’s a person they’re people this guy acts like it’s  when you kept the dog outside all year those you needed dominance over you had a wolf in the backyard friends come over “you want to go outside” “i wouldn’t” she’s the cheaper one of us as well not in a bad way you know she likes the lights being off turn the lights off you know save money turn the get the lights all the lights off it’s a fun time being in that environment turn the light on find your seat get a stick knock the light back off sit in the dark and be sad and just be just sad all day but you’re saving nickels upon nickels right when i get in bed “you turn that light off” “i can’t tell if that’s on” “well get out of bed turn it off” eighty years we’ll give our daughter the  from all the nickels we saved all right look i can be wasteful like if something gets to the bottom i will throw it away ketchup if ketchup gets like that much left i’m like “bleh” she will put the old ketchup with the new ketchup that way your ketchup’s always gross crowd laughing toothpaste i will use it to what i think the average person uses it to i don’t think i should feel muscles trying to get it out i’m not going to have an iron on top of it but she’ll do it more so i know when i’m done with it i give it to the hobo i married she cuts it gets it all out i married an old man from the depression is who i married she would have thrived during the depression i don’t think she would’ve known there was a depression a pizza party is my nightmare i’ll have friends over for pizza so i’ll be like “all right we gotta order pizza” and she goes “how much” i go “order the most” “i don’t want to run out of pizza in front of my friends” she goes “just call and ask them” i go “i can’t call these  dudes and just be like ‘how much pizza do you think you’re gonna eat tonight” they have a real they have a family they work in a building right now you want me to call and be like “you have a big lunch today” “no we’re trying to save money so i need to know exactly how much pizza you’re going to eat in eight hours” i just want to buy stuff and her not know i bought it and that’s so hard i think if i knew the name of my bank i could do it but i got to go through her to get that information i poke around i’ll be like “if i had a bank what bank do you think i would go to” i also once a week walk into a bank and go “hello is my money in this bank” she has to get me out of stuff all the time if i buy something and it doesn’t fit i’ll never take it back i’m embarrassed i’m pretty sure it’s going to be the exact same people and they remember me and right when i walk in they’ll be like “we knew you couldn’t handle that shirt” she takes back groceries to the grocery store incredulously yeah food i honestly i don’t think it’s allowed i honest i think she’s bullying these  children they don’t know what to do their mom walks in being like “your bananas got weird too quick” and they’re like “what” “you picked them out they’re not mine what are you talking about” “i’m gonna change them i’mma go change them out” “yeah that lady is stealing bananas” recently i was walking to my car and i had a college kid come up and he was raising money uh you know for nature or it was for earth it was nature and earth uh i don’t know he used real words but it was you know basically i felt he even looked at me like “it’s going to earth” i was like “yeah well earth is going through it right now” so he was telling me everything earth is going through you know it’s pollution he said “our water’s being poisoned” you know i said “not under my watch but i understand” crowd laughing cheering i think i was buying a tree i don’t really know but i tried to give him cash and he was like “oh you got to do a credit card” i was like “okay” so i give a random ipad all my family information it was  so he like swipes the card and then after it goes through he goes “just so you know it’s a monthly charge” crowd gasps yeah chuckles yeah he told me after and he was like “look you can cancel it on the website” i was like “i don’t know what’s going on right now” he goes “put your email down for the receipt” i was like “all right” i just put my wife’s email address down guess who’s going to put a stop to this real fast crowd laughing cheering she’ll have that tree cut down tomorrow i called her ’cause i have to call her when i sign us up for stuff and chuckles she answered the phone just goes “i’m on it” hung up she runs everything she does stuff doesn’t tell me we got a new roof and i did not know that a whole new roof i found out from my neighbors they were like “how’s that new roof going” i go “i don’t know what you’re talking about” and they go “you didn’t know you got a new roof” i go “no i did not” and then i had to go get her i was like “you gotta go talk about that new roof you didn’t tell me about” “i looked like an idiot out there” we live so in our neighborhood we live in a culdesac which is very exciting because i grew up on a straight street and i always dreamed of living in a culdesac you see them and you’re like “can you imagine being up in one of those” we do all the culdesac stuff you know like if anybody comes down there we’re like “what are you doing down” just any car we’re like “you better get out of our culdesac” we take our trash out uh one of the days i don’t know the day but it’s a day we’re doing it there is one day i know we forgot to take it out a couple weeks ago that stress could break up a family all week was like “everybody eat out of your hands” we had friends over “put your trash in your pockets take it to your homes” we got very lucky with our neighbors our neighbors are super cool and we’re very close with them uh they all have real jobs they like went to college and stuff and one of them is a management consultant so he manages all the consultants and yeah it’s a tough job all right there’s a lot of consultants and he’s like “you better get back” you know “you can’t” “just can’t consult up in here” so he’s busy our other neighbor’s an actuary i thought that was with birds i was like “what’s that bird right there” he goes “i don’t know” and i was like crowd laughing cheering “as an actuary you don’t know what that bird is right there” i went to career day for my daughter’s school and like i get what i do is very fun but i was nervous ’cause i’m there with real people and they’re smart and so i was hoping to sit at a table alone they put me at a table with a surgeon which i i think they did it on purpose almost to show the kids “here’s the difference between reading” crowd laughing cheering so the kids like come up you know and they’re like “what subjects do you use for comedy” and i was like i don’t even know what subjects they’re taking uh i was like “i do english i do mostly english onstage” they asked him “how long do you go to school to be a surgeon” you know and he’s like “ years” or whatever it’s like they asked me they’re like “how long to be a comedian” i was like “you’re good now” so “look finish elementary school make your parents happy but then i’d get out and get after it” i had a hard time in school there was i got i barely graduated got into a community college barely got into a college they have to let everybody in i went to community college for one year i have zero credits community college a lot of people don’t know is college when they’re like “you’re probably going to stay in your community so” “we’re just going to show you the ropes around town” “kind of give you a lay of the land” that whole year i don’t have credits because i had to take remedial classes which remedial is basically for they’re classes for someone my age now trying to go back to school because they don’t remember school and i took them right out of school i just they’re like “you don’t remember school” i was like “i just came from school” they go “it looks like you’ve never heard about it” everybody in there was like  i’m like “well who’s the teacher” “i think you have to tell me if i ask who’s the teacher” i took such basic i took speech in college i’d go i would ride there with my friends going to a business class or something whatever you go to i was like “all right i’ll catch you after speech” and i still say a lot of words wrong that’s what i don’t understand i say uh “poim” “poim” which no one ever knows uh poem like yeah poem i go “poim” well fix that speech class what if i want to be a “poim” writer what if i have a lot of great “poim” ideas and no one takes me serious ’cause i’m like “listen to my poims” “ol” i say “ol” a super southern one uh oil i don’t even know how to say it like to y’all oil oil yeah yes laughs i go “motor ol” like “tinfol” i mean southern community college that should be mandatory that they fix that they should write oil on the board and i just go “ol” they go “we’re gonna take care of that all right” “there’s a pretty good chance you’re gonna be working with a lot of that” “silver war” that’s how i say it instead of “civil” i go “silver war” because you know look that might be on me all right i’m not i’ll tell you i don’t even know anything about the “silver war” i don’t know anything about history and i can tell because every history movie i watch i watch on the edge of my seat laughing applause “what is gonna happen” i watched pearl harbor i was just as surprised as they were you know i don’t read yeah and i think that matters reading is the key to smart i believe and i don’t do it i think it’s caught up to me i want to do it i like the idea of reading i even buy books but these books are the most words and it’s every book you just open it and you’re like “what are you talking about” it i mean and they don’t let up every page just more words how about you put some blank pages in there why don’t you let me get my head above water for two seconds crowd laughing applauding my eyes can read good it’s my brain my eyes are such good readers i feel so bad ’cause they’re attached to this dumb brain i mean they’re looking at these words they’re like “you’re not getting any of this man” “that’s the fifth time we’ve read that sentence let’s try another one” fiction nonfiction i don’t know which one’s the truth i read every book as the truth is how i handle it from what i can tell we have a pretty big wizard problem in this country right now we went to like we went to europe last year and by the way on the way to we were flying from nashville to london and we go uh it was  pm nashville time so as a game as a family i said “let’s guess what time it is in london” so i said  am our daughter said  am my wife her guess was  and that’s it yeah she didn’t say the  and i was like “just say the ” she goes “you know what i mean” i go “i know but just show our daughter you know what a normal person would say” that started a pretty big fight if you go to europe just so you know uh it’s the most old it’s very old you think we’re old and you get there and you’re like “good night” uh “what have y’all been doing over here” you just walk around they’re like “that building is from ” you’re like “good golly” went to australia as well australia’s very far away i’m going to tell you our earth is bigger than i thought it was we flew  hours over  miles an hour barely made it barely i think we went the wrong way as well i had jet lag there i did not mind it ’cause i woke up early i woke up at  am and i don’t ever wake up that early so i was like first in line at the breakfast buffet here’s what i will tell you when you get up at  am noon is pretty far away i mean you will bet your life it’s noon and it’s maybe  by  pm it’s like “how are people out” “why won’t the sun go down” that’s the next phase of my life getting up early you know we’re starting we get up at  a little bit yeah you know i’ve never seen my daughter go to school but i’ve been close i’m cold now too that i’m old fortyfive i just get cold i always have to bring a jacket it could be  degrees outside and i will walk around with a jacket and i see these young people and i just think “where are your jackets” my body’s falling apart my my shoulder hurts ’cause i stand onstage like this it’s crazy this was a huge mistake to get into this if i had known that this would be a big problem i would have probably tried to not make it a habit my body can’t handle this and i went to the doctor to try to fix it i mean they talked to me like i was an old car he goes “i wouldn’t put any more money into it to be honest” i pulled a muscle recently i guess it was in my soul i mean it was dead middle of my body i thought it was the front then i was like “well my back hurts too” you know so well what’s in the middle what muscle is in the middle i went hiking i jumped off a rock i mean a foot high when i landed it felt what i would imagine being struck by lightning feels like i felt it through my fingernails fiftyfifty if my zipper’s up or down anymore it’s a true flip of the coin i don’t know what’s happening i’ve zipped up my whole life and now just head out like “all right see you boys later” just head out take my pants off at home they come off easy i’m like “ah that was four hours i was walking around like” i think it’s ’cause i’m peeing so much longer and i’m not used to this new old rhythm yet ‘cause in your  there’s a lot of false stops you learn pretty quick to be like “let’s hang back” “let’s let traffic thin out a little bit” i watch young people come and go i’m like “tell my family i’m okay” food is still i still have a problem with food i i love processed food i love it i’m a farmfactorytable guy crowd laughing cheering i want i want the most hands involved in my food it’s coming to an end you can feel i can feel it i can’t do it anymore it really hurts i you know and i tell myself like “i’ve done it i was” yeah my jersey would be retired of eating fast food i’ve done all the stuff i’ve had taco bell and threw it away in my neighbor’s trash so my wife didn’t find out i used so much ketchup once at a restaurant that a stranger walked up to me and goes “that’s a lot of ketchup” do you know how much ketchup you got to use that guy doesn’t want to get involved you know but he sees it i mean his wife’s like “let it go” he’s like “i think i got to say something i don’t” “i don’t think he knows that we’re all no one’s using that much ketchup” i went to a mcdonald’s drivethrough and my window did not roll down that’s the universe saying “give it a rest” and i fought through it it’s embarrassing because they can tell because i had to pull past because i got to open my door so it’s going to hit the speaker so i gotta drive by it so the car behind me is like “are you leaving” i’m like “my window don’t roll down” and i got to open the door now the speaker is by the gas tank so i gotta yell my order out now that guy hears it and then i look at mcdonald’s screen well they got it all on the board just let the neighborhood know what i’m ordering and then i drove by the window the drivethrough window and i got to go by it ’cause i got to open my whole door so i go by it and i see them they’re like “where are you going” i was like “nowhere” and i go by and they see my whole body sitting in a chair it’s crazy if you’ve never done it it’s the most vulnerable i ever felt in my life just you’re just sitting there and you’re like “hi” they see your feet they see your feet they just throw it at me like a bear just throw it our family we just eat a lot of fast food our family text thread my dad texted he was like “i found a way to get a big mac cheaper” and he said “you can order a double cheeseburger and ask for big mac sauce” so he goes “it’s cheaper and they get rid of that third bun so it’s atkins” uh that’s how you do it that third bun is the one you’re like “i don’t know if i need the third bun” my parents are getting older they’re not super old but they’re at the age where you know if they trip they will fall to the ground there’s just an age where it hap i mean like if i trip my body hasn’t touched the ground in  years but for them it’s just i don’t know it’s like the upper is like “we’re going” and the lower is like “what” and it’s just boom and i mean there’s no like “whoa” it’s just they don’t even know what’s happening they’re just looking at you and you’re like “you’re not feeling any of this” and they hit the ground so hard it’s like they got thrown off a roof everybody hears it they’re like “what’s going on” i’m like “my parents are down” “i got to get ’em up” “my mom’s got a bruise that won’t go away for two years” i just walk ahead of them now i’m like a sherpa just let them know the terrain that we’re about to hit “got a little carpet coming up” “got a little carpet when we go outside a little brighter than inside” “yeah and cobblestone you ain’t gonna make that so” “lay down lay down on the carpet” “i’m gonna back the car up in the building” we had my mom go pick up our daughter recently at a friend’s house and i texted her the address and she drove to the wrong house she knocked on the door another grandmother answered well this is no good this is like two dogs seeing each other through a fence it’s gonna be hard to get them both back inside so my mom she goes “is my granddaughter there” and the other lady goes “i have three grandsons” no solution just two grandmothers “you have you have stuff i have stuff too” they talked for  minutes it’s the wrong door i had to go get my daughter then find my mom and wives are the ones that keep it together the longest in a relationship if you see an old married couple like  they’re  the wife is just she’s with it and her husband’s like “where are we at right now” like he i mean our brains fall off a cliff dude like they’re the only reason he’s out is because she’s like “you better get out and let people see you a little bit” it’s like some zookeeper walking some old gorilla around “let the kids touch you” everybody’s trying to feed him “don’t feed him that” “i think he wants it” “he definitely wants it he’s too dumb to know he can’t have it” my dad goes to the hospital all the time i mean he he has surgery eight times a year probably he loves it he loves it the doctor will go “look you could just stretch” and he goes “let’s just do the surgery” he had surgery ’cause he was addicted to afrin the nose spray yeah look i i got addicted to afrin as well i would honestly tell you if you don’t know what it is i would tell you not to get involved it’s one of the best things i’ve ever been part of when i was on it too my wife was furious i had to try to hide it from her she could hear it from three blocks away just one little puff “what’s that” “i ain’t gonna live like this” “i ain’t work this hard not to do afrin in my own home” so my dad they go to the doctor him and my mom and the doctor was like “do you use afrin” and my dad goes “no” and the doctor was like “i can tell that you use it” “i was just saying that” so he goes “how long have you used it” and my dad said “five years” which is a lie and my mom she’s like “well tell the truth” you know she goes “he’s used it for  years” he used afrin  years just for reference if you don’t know the back of the box suggests no more than three days i mean there’s not a medicine on earth that tells you to give it a good  run i think about my parents a lot because i mean the world is getting very futuristic and like them i’m from the  you got to watch out for the  people we’re old crowd cheering it’s so i mean my greataunt helen from the ’ she’s deaf they didn’t know she was deaf back then the doctors they had no idea they were baffled that’s how that’s how good doctors were back then they just said they looked at her as they smoked in her face these were real doctors they were like “i don’t know” “she’s rude i’ll tell you that” i mean i think what i saw growing up i mean we would go watch my dad’s a magician so we would go watch my dad do magic at the wilson county fair county fairs are great if you never they’re still going around i don’t think the government knows about them but i mean we ride these rides that were on the interstate an hour ago so we would go watch my dad so my dad would do magic right next to him they had a donkey jumping off a high dive into a pool so pretty hard to keep everybody’s attention when my dad is like “is this your card” and everybody’s like “this donkey’s about to jump off this high dive” that’s something you don’t think you wanna see till it’s up there and i use the word “jump” very loosely these donkeys are falling off this high dive but you can’t put that on the sign you know “you gonna watch a donkey fall off a high dive” “no” “okay” “what if he jumped” “well at least he’s into it” so the donkey would go up this ramp like  feet in the air and it would just stand there ’cause it doesn’t want to jump it’s not in on this so but it gets stuck ’cause donkeys can’t walk backwards not positive if that is true but i i’ve never seen a donkey go backwards i’ve never even really looked but i honestly think  years i would have seen a couple donkeys go backwards so the donkey stands there and a dog he sends a dog up the ramp it barks at the donkey and the donkey jumps in the pool and as someone that has seen this i tell you when that donkey hits the water you’re like “we should probably get out of here uh” it’s not as fun as you thought it would be i mean this is going to sound dumb but you’re really surprised you’re seeing what the sign said you would see peta got a hold of that they shut it down and that was one i think everybody was like “fair enough we get that” another one peta had to shut down this was again like the  i was alive you could fight an orangutan at a fair they would have an orangutan just sitting in a boxing ring and guys would pay to fight it and i say “guys” because i just can’t imagine one woman ever fought this orangutan i think you can put an orangutan in a room with a thousand women and when they walked out like “did anybody fight it” “it never crossed our mind to fight it” crowd laughing crowd cheering put three men in that room two of those men will fight that orangutan the other one would’ve started it going “i think y’all should fight that orangutan” so guys get in there and they’re like “all right we’ll go fight this orangutan” and the orangutan would just knock everybody out because we don’t have the internet to look up “how strong is an orangutan” it’s all wordofmouth back then you had to meet a guy that just fought an orangutan you’re like “but the arms are skinny” he’s like “i know that’s what made me get in there as well” crowd laughing applauding so peta put a stop to that also yeah look whatever you want to say about peta they did some real work in the  there’s the first one of the first things they had to do car manufacturers before crash test dummies were invented they would use a pig in a car wreck so they sit a pig i guess upright and this little pig pigs are smart pretty good day for this pig it’s like “you gonna let me drive a car” pretty fun pretty fun day he’s got his elbow out “are y’all kidding me right now you gonna let me drive this car” i don’t even know what that shows you pigs don’t have necks that’s what i was around when i was growing up i mean i look at my daughter and i have more in common with a pilgrim and pilgrims believed in witches little side note i would like to say i think the witch phase was the toughest phase for women to have to go through not to get serious but a lot of people say voting i disagree i think it’s witch then voting i think it’s witch pretty big gap then you know voting you jaywalk back then the whole town’s like “there’s a witch” you’re like “here we go here we go” and i’ll give it to ’em because they could’ve flown away but none of them ever did chuckles all right sorry that look just trying to get a witch joke in it’s pretty complicated there’s a lot of moving parts you got to bring up pilgrims somehow i took a typing class in seventh grade that’s how crowd applauding whooping and i thought it was a waste of my time i in my head i was like “who’s going to be typing” “cursive is the future” crowd laughing applauding that’s why i ‘cause the future i don’t know what’s going i don’t know technology i don’t know what ai is i don’t think you get to know what ai is and also see a donkey jump off a high dive i think it was one or the other and i saw the donkey so i’m out if i send an email and it says the file is too big i don’t know what to do my best guess is i try to resend it that’s what i try to you know how dumb that is the computer’s like “no” and i go “what about now though” hotels are getting futuristic a lot of hotels when i stay at now when you take a shower they have half a glass so it’s open so the water gets on the floor because that’s the future they want water on the floor and i’m old and dumb i come you know we really tried to keep the water inside the tub it was a pretty big deal but now they want the floors wet that’s what they want they want to do no glass but i’m still alive so they’re like “all right do half a glass” “once that guy’s gone we’ll do no glass floors are wet drains off the balcony” when i first started going on the road i would have to do a wakeup call that’s how i got up in the morning i’d have to call a guy i don’t know and just be like “will you wake me up tomorrow” crowd laughing applauding that’s the last person i would talk to was him i would call my wife then a man i’ve never seen “you promise you gonna wake me up tomorrow” we would tell each other good night so no one’s done a wakeup call in probably  years now so this guy on the road with us he’s  years old he’s never done a wakeup call in his life and so we’re staying at a hotel and he saw the wakeup call on the phone and he goes “i’m going to do a wakeup call” and i told him i go “don’t do it” “i mean that’s like an ashtray on an airplane” he was like “no i want to do it” “all right” so he set it up next morning his phone rings he doesn’t answer the phone he doesn’t know that’s the main part of your job you gotta answer the phone and let the guy know you’re awake so then that guy who’s young too probably is like “i guess i got to go knock on the door” “i’ve never even seen this service used so it must be the most important person alive” so he goes up and he starts knocking on the door my buddy still doesn’t answer the door so the guy goes in the room i swear this is real ’cause look this is two young people they don’t know what they’re doing so he goes in the room like “do i have to touch this guy” “is that what a wakeup call is” “i gotta touch a guy i’ve never seen in the dark” so i’d imagine he started making noises just going “hep hey now hep” “hep hep hep hep” hoping he doesn’t have to touch this man but he had to touch him i swear that’s what he told me he woke up to another guy going “hey buddy” “it’s time to wake up” thank you so much crowd cheering ♪ feeling good like i should ♪ “sunday best” by surfaces playing ♪ went and took a walk around the neighborhood ♪ ♪ feeling blessed never stressed ♪ ♪ got that sunshine on my sunday best yeah ♪ ♪ every day can be a better day despite the challenge ♪ ♪ all you gotta do is leave it better than you found it ♪ ♪ it’s gonna get difficult to stand but hold your balance ♪ ♪ i just say whatever ‘cause there is no way around it ♪ ♪ everyone falls down sometimes ♪ ♪ but you just gotta know it’ll all be fine ♪ ♪ it’s okay ♪ dramatic jingle playing your email address will not be published required fields are marked  name email website  \\n\\n comedian ari shaffir tackles controversial topics like terrorism gun violence racism and more in his standup special with a darkly humorous approach he explores unexpected perspectives on sensitive social and political issues gabriel iglesias’ legend of fluffy celebrates his  career blending sharp humor with personal stories about fame societal norms cultural identity and life lessons while staying true to his comedic mission of entertainment over offense bill maher’s special critiques woke culture political extremes and societal absurdities with sharp humor urging open dialogue amid polarizing times michelle buteau’s latest special falls flat with humor that feels strained and moments that drag where they should sparkle the material lacks the sharpness and  ©  scraps from the loft all rights reserved get the best articles once a week directly to your inbox'"
      ]
     },
     "execution_count": 57,
     "metadata": {},
     "output_type": "execute_result"
    }
   ],
   "source": [
    "data_clean.transcript.loc['nate']"
   ]
  },
  {
   "cell_type": "code",
   "execution_count": 63,
   "id": "ce2b2582-ce64-41eb-8132-8474d9ba4053",
   "metadata": {},
   "outputs": [],
   "source": [
    "def clean_text_round2(text):\n",
    "    \"\"\"Get rid of some additional punctuation, musical notes, quotes, etc.\"\"\"\n",
    "    # Remove musical notes and special characters\n",
    "    text = re.sub('[‘’“”]', '', text)\n",
    "    \n",
    "    # Remove single and double quotes\n",
    "    text = re.sub(\"[\\\"\\']\", '', text)\n",
    "    \n",
    "    # Remove additional punctuation\n",
    "    text = re.sub('\\n', '', text)\n",
    "\n",
    "    text = re.sub('♪', '', text)\n",
    "    \n",
    "    return text\n",
    "\n",
    "# Lambda function for round2 cleaning\n",
    "round2 = lambda x: clean_text_round2(x)"
   ]
  },
  {
   "cell_type": "code",
   "execution_count": 64,
   "id": "ca1ac918-0a95-4ac7-aa13-8a980301cebe",
   "metadata": {},
   "outputs": [
    {
     "data": {
      "text/html": [
       "<div>\n",
       "<style scoped>\n",
       "    .dataframe tbody tr th:only-of-type {\n",
       "        vertical-align: middle;\n",
       "    }\n",
       "\n",
       "    .dataframe tbody tr th {\n",
       "        vertical-align: top;\n",
       "    }\n",
       "\n",
       "    .dataframe thead th {\n",
       "        text-align: right;\n",
       "    }\n",
       "</style>\n",
       "<table border=\"1\" class=\"dataframe\">\n",
       "  <thead>\n",
       "    <tr style=\"text-align: right;\">\n",
       "      <th></th>\n",
       "      <th>transcript</th>\n",
       "    </tr>\n",
       "  </thead>\n",
       "  <tbody>\n",
       "    <tr>\n",
       "      <th>tom</th>\n",
       "      <td>soul man by the blues brothers plays audience ...</td>\n",
       "    </tr>\n",
       "    <tr>\n",
       "      <th>anthony</th>\n",
       "      <td>crowd cheering thank you all for coming to the...</td>\n",
       "    </tr>\n",
       "    <tr>\n",
       "      <th>bill</th>\n",
       "      <td>bill mahers is anyone else seeing this is a sh...</td>\n",
       "    </tr>\n",
       "    <tr>\n",
       "      <th>ali</th>\n",
       "      <td>get me bodied extended mix playing audience ch...</td>\n",
       "    </tr>\n",
       "    <tr>\n",
       "      <th>ahir</th>\n",
       "      <td>ahir shah ends genre standup comedy social com...</td>\n",
       "    </tr>\n",
       "    <tr>\n",
       "      <th>ari</th>\n",
       "      <td>lightning crashes every town i figured out eve...</td>\n",
       "    </tr>\n",
       "    <tr>\n",
       "      <th>gabriel</th>\n",
       "      <td>gabriel iglesias legend of fluffy is a lively ...</td>\n",
       "    </tr>\n",
       "    <tr>\n",
       "      <th>nate</th>\n",
       "      <td>your friend nate bargatze genre comedy standup...</td>\n",
       "    </tr>\n",
       "    <tr>\n",
       "      <th>joe</th>\n",
       "      <td>joe rogan performing live in san antonio expre...</td>\n",
       "    </tr>\n",
       "  </tbody>\n",
       "</table>\n",
       "</div>"
      ],
      "text/plain": [
       "                                                transcript\n",
       "tom      soul man by the blues brothers plays audience ...\n",
       "anthony  crowd cheering thank you all for coming to the...\n",
       "bill     bill mahers is anyone else seeing this is a sh...\n",
       "ali      get me bodied extended mix playing audience ch...\n",
       "ahir     ahir shah ends genre standup comedy social com...\n",
       "ari      lightning crashes every town i figured out eve...\n",
       "gabriel  gabriel iglesias legend of fluffy is a lively ...\n",
       "nate     your friend nate bargatze genre comedy standup...\n",
       "joe      joe rogan performing live in san antonio expre..."
      ]
     },
     "execution_count": 64,
     "metadata": {},
     "output_type": "execute_result"
    }
   ],
   "source": [
    "# Lets take a look at the updated text\n",
    "data_clean = pd.DataFrame(data_clean.transcript.apply(round2))\n",
    "data_clean"
   ]
  },
  {
   "cell_type": "code",
   "execution_count": 65,
   "id": "ce3ae315-cd0d-42cd-a603-612cf67a9bc4",
   "metadata": {
    "scrolled": true
   },
   "outputs": [
    {
     "data": {
      "text/plain": [
       "'your friend nate bargatze genre comedy standupdirector ryan politostar nate bargatzepremiered on netflix on december   nate bargatzes  netflix standup special your friend nate bargatze is a comedic journey through the absurdities of everyday life with his signature deadpan delivery bargatze riffs on relatable topics like pizzaordering dilemmas domestic quirks with his frugal wife and parenting mishaps weaving personal anecdotes with exaggerated humor the show opens with a spirited introduction from his daughter setting the stage for a performance rooted in selfdeprecating humor smalltown nostalgia and sharp observations about modern absurdities bargatzes storytelling shines as he recounts his days as a water meter reader his failed attempts to manage daily routines without his wifes guidance and his humorous take on aging and familial dynamics the special thrives on bargatzes ability to find comedy in the mundane whether its debating the dominance of dogs sleeping in beds or lamenting the complexities of fastfood drivethroughs his observations on generational quirks from his parents idiosyncrasies to his own aging mishaps resonate universally the show crescendos with his musings on societal advancements juxtaposed with his smalltown upbringing culminating in laughoutloud reflections on ai modern hotels and outdated services like wakeup calls through it all bargatze maintains a warm and engaging rapport with his audience delivering a feelgood hour of humor that blends sharp wit with heartfelt relatability    crowd cheering sunday best by surfaces playing please welcome my daddy nate bargatze  feeling good like i should  crowd cheering  went and took a walk around the neighborhood   feeling blessed never stressed   got that sunshine on my sunday best yeah  i love you  every day can be a better day despite the challenge   all you gotta do is leave it better than you found it   its gonna get difficult to stand but hold your balance   i just say whatever cause there is no way around it  thank you thank you crowd cheering phoenix thank you so much that was so good crowd continues cheering nate thanks thank you cheering continues thank you thank you thank you thank you thank you thats very nice crowd whooping this is it were doing it uh so my i love look i love doing standup comedy i love it and the job i had the last serious job the job i will go back to when all this falls apart crowd laughing i was a water meter reader scattered cheering thank you this job was the title was the description of what you do crowd laughing people would ask id go im a water meter reader yeah whats that let me tell you what it is all right were going to read water meters thats the thats  of the job so back when i did it it was in wilson county mt juliet tennessee and so back when i did it i would have to park the truck and like get out in the neighborhood like run through a neighborhood and type in how much water every house uses so its  obviously  happens if youre old enough you remember when  happened the whole country got very scared there was going to be more attacks well we did as well in wilson county we figured they just went to new york obvious next stop mt juliet tennessee crowd laughing and they are going to poison our towns water so they got all of us water meter readers to guard the water tanks i really did this i stood just in a dark field alone waiting for the taliban to show up no weapons no training they gave us a lantern a lantern that does nothing but shows your body as you hold it up i cant see two feet in front of me if someones got a gun theyre like shoot at the only light in that field im going to put it over my heart to see im like whats going on i mean i think like to this day ive always said what did they want us to do call the mt juliet police osama is here he got past our lanterns hes in the water tank he knew how to open that we were we were surprised by that but he knew what he was doing my wife was with me when i had that job shes been with me way before where were at right now she was in it for the benefits i got at the water company uh nate chuckles we have uh so weve been married  years crowd cheering thank you and uh i know you know the longer im married the more i realize why she was put in my life i would not be here if she was not in my life i know all of this now ive also become very reliant on her because of this i dont know anything about me like i dont know what i like and dont like to eat crowd laughing i mean someone would be like you want to try this and i got to get her involved im like i dont think so i dont know how long to microwave something i have to ask her every time as if her family invented the microwave how long do we microwave this for and shes like do it till its hot its like but i know you know a number you know just just say the number i dont im either gonna call my mom or youre gonna tell me the number if she doesnt tell me i type in  minutes and i walk away nate laughs i do do my own laundry crowd cheering thanks thank you i think thats what it deserves my mom did my dads laundry growing up so i thought all wives do husbands laundry and ive always done my own and to be honest i felt it had been forgotten about over these past  years the sacrifice i was making that other husbands didnt have to make one day i was driving home and it popped in my head and i was like all right ill bring that up i mean i didnt bring it up that day you know i was like im sure there will be a time where well be in some fight ill be losing this fight and then i mean i just come im like i do my own laundry shes like fights over you win i forgot how good i got it so i sit on it for like six months like a long laughs we finally get in a fight i dont remember what the fight was about nothing i dont know it wasnt laundry i remember that so im losing this fight and so in my head im like this is it i mean honestly i was sad to see it go thats how good i felt i felt bad for her i mean i was like she thinks shes winning this fight im about to drop a bomb on her right now crowd laughing so just out of nowhere i just go i do my own laundry and i said it like they dont make them like this no more i was shocked that it started a second fight i never saw coming crowd laughing applauding nate laughs thanks we do laundry very differently shell read the labels ill wash a rug and a suit together im i dont know you wanna put your shoes in there put your shoes the washing machines always a foot from the wall when i get done chuckles its like that was a lot of stuff you put in there you know yeah and look its almost all wet i travel a lot obviously so shell be at home with our daughter we have a wonderful daughter as you have seen and crowd cheering but i know its hard you know shes home my wife has to be the mom and the dad and the good and the bad parent you know and i come home and im super fun or ill mess up the routine this is just stuff she tells me and crowd laughing like ill go when i go home ill lay in bed with our daughter and then we get in trouble for talking im not the one talking by the way but we get yelled at as if im the one talking i do get it because i dont think of the consequences with everything like we have one dog i would like another dog my wife does not want another dog because its a lot its a lot to have two dogs cause you got to open the back door and let two dogs out crowd laughing then you shut it and now now theyre out there youre inside not dealing with it but but then they want to come back in and youre like grumpily got to go let all these dogs back in youre like one dog two look at all these dogs everywhere look i to be honest ive never taken care of the one dog we have but two two would be fun our dog sleeps in our bed and someone told me youre not supposed to do that cause you lose dominance over the dog and you know i asked him i said what year do you think it is these are all doodles theyre barely dogs its a person theyre people this guy acts like its  when you kept the dog outside all year those you needed dominance over you had a wolf in the backyard friends come over you want to go outside i wouldnt shes the cheaper one of us as well not in a bad way you know she likes the lights being off turn the lights off you know save money turn the get the lights all the lights off its a fun time being in that environment turn the light on find your seat get a stick knock the light back off sit in the dark and be sad and just be just sad all day but youre saving nickels upon nickels right when i get in bed you turn that light off i cant tell if thats on well get out of bed turn it off eighty years well give our daughter the  from all the nickels we saved all right look i can be wasteful like if something gets to the bottom i will throw it away ketchup if ketchup gets like that much left im like bleh she will put the old ketchup with the new ketchup that way your ketchups always gross crowd laughing toothpaste i will use it to what i think the average person uses it to i dont think i should feel muscles trying to get it out im not going to have an iron on top of it but shell do it more so i know when im done with it i give it to the hobo i married she cuts it gets it all out i married an old man from the depression is who i married she would have thrived during the depression i dont think she wouldve known there was a depression a pizza party is my nightmare ill have friends over for pizza so ill be like all right we gotta order pizza and she goes how much i go order the most i dont want to run out of pizza in front of my friends she goes just call and ask them i go i cant call these  dudes and just be like how much pizza do you think youre gonna eat tonight they have a real they have a family they work in a building right now you want me to call and be like you have a big lunch today no were trying to save money so i need to know exactly how much pizza youre going to eat in eight hours i just want to buy stuff and her not know i bought it and thats so hard i think if i knew the name of my bank i could do it but i got to go through her to get that information i poke around ill be like if i had a bank what bank do you think i would go to i also once a week walk into a bank and go hello is my money in this bank she has to get me out of stuff all the time if i buy something and it doesnt fit ill never take it back im embarrassed im pretty sure its going to be the exact same people and they remember me and right when i walk in theyll be like we knew you couldnt handle that shirt she takes back groceries to the grocery store incredulously yeah food i honestly i dont think its allowed i honest i think shes bullying these  children they dont know what to do their mom walks in being like your bananas got weird too quick and theyre like what you picked them out theyre not mine what are you talking about im gonna change them imma go change them out yeah that lady is stealing bananas recently i was walking to my car and i had a college kid come up and he was raising money uh you know for nature or it was for earth it was nature and earth uh i dont know he used real words but it was you know basically i felt he even looked at me like its going to earth i was like yeah well earth is going through it right now so he was telling me everything earth is going through you know its pollution he said our waters being poisoned you know i said not under my watch but i understand crowd laughing cheering i think i was buying a tree i dont really know but i tried to give him cash and he was like oh you got to do a credit card i was like okay so i give a random ipad all my family information it was  so he like swipes the card and then after it goes through he goes just so you know its a monthly charge crowd gasps yeah chuckles yeah he told me after and he was like look you can cancel it on the website i was like i dont know whats going on right now he goes put your email down for the receipt i was like all right i just put my wifes email address down guess whos going to put a stop to this real fast crowd laughing cheering shell have that tree cut down tomorrow i called her cause i have to call her when i sign us up for stuff and chuckles she answered the phone just goes im on it hung up she runs everything she does stuff doesnt tell me we got a new roof and i did not know that a whole new roof i found out from my neighbors they were like hows that new roof going i go i dont know what youre talking about and they go you didnt know you got a new roof i go no i did not and then i had to go get her i was like you gotta go talk about that new roof you didnt tell me about i looked like an idiot out there we live so in our neighborhood we live in a culdesac which is very exciting because i grew up on a straight street and i always dreamed of living in a culdesac you see them and youre like can you imagine being up in one of those we do all the culdesac stuff you know like if anybody comes down there were like what are you doing down just any car were like you better get out of our culdesac we take our trash out uh one of the days i dont know the day but its a day were doing it there is one day i know we forgot to take it out a couple weeks ago that stress could break up a family all week was like everybody eat out of your hands we had friends over put your trash in your pockets take it to your homes we got very lucky with our neighbors our neighbors are super cool and were very close with them uh they all have real jobs they like went to college and stuff and one of them is a management consultant so he manages all the consultants and yeah its a tough job all right theres a lot of consultants and hes like you better get back you know you cant just cant consult up in here so hes busy our other neighbors an actuary i thought that was with birds i was like whats that bird right there he goes i dont know and i was like crowd laughing cheering as an actuary you dont know what that bird is right there i went to career day for my daughters school and like i get what i do is very fun but i was nervous cause im there with real people and theyre smart and so i was hoping to sit at a table alone they put me at a table with a surgeon which i i think they did it on purpose almost to show the kids heres the difference between reading crowd laughing cheering so the kids like come up you know and theyre like what subjects do you use for comedy and i was like i dont even know what subjects theyre taking uh i was like i do english i do mostly english onstage they asked him how long do you go to school to be a surgeon you know and hes like  years or whatever its like they asked me theyre like how long to be a comedian i was like youre good now so look finish elementary school make your parents happy but then id get out and get after it i had a hard time in school there was i got i barely graduated got into a community college barely got into a college they have to let everybody in i went to community college for one year i have zero credits community college a lot of people dont know is college when theyre like youre probably going to stay in your community so were just going to show you the ropes around town kind of give you a lay of the land that whole year i dont have credits because i had to take remedial classes which remedial is basically for theyre classes for someone my age now trying to go back to school because they dont remember school and i took them right out of school i just theyre like you dont remember school i was like i just came from school they go it looks like youve never heard about it everybody in there was like  im like well whos the teacher i think you have to tell me if i ask whos the teacher i took such basic i took speech in college id go i would ride there with my friends going to a business class or something whatever you go to i was like all right ill catch you after speech and i still say a lot of words wrong thats what i dont understand i say uh poim poim which no one ever knows uh poem like yeah poem i go poim well fix that speech class what if i want to be a poim writer what if i have a lot of great poim ideas and no one takes me serious cause im like listen to my poims ol i say ol a super southern one uh oil i dont even know how to say it like to yall oil oil yeah yes laughs i go motor ol like tinfol i mean southern community college that should be mandatory that they fix that they should write oil on the board and i just go ol they go were gonna take care of that all right theres a pretty good chance youre gonna be working with a lot of that silver war thats how i say it instead of civil i go silver war because you know look that might be on me all right im not ill tell you i dont even know anything about the silver war i dont know anything about history and i can tell because every history movie i watch i watch on the edge of my seat laughing applause what is gonna happen i watched pearl harbor i was just as surprised as they were you know i dont read yeah and i think that matters reading is the key to smart i believe and i dont do it i think its caught up to me i want to do it i like the idea of reading i even buy books but these books are the most words and its every book you just open it and youre like what are you talking about it i mean and they dont let up every page just more words how about you put some blank pages in there why dont you let me get my head above water for two seconds crowd laughing applauding my eyes can read good its my brain my eyes are such good readers i feel so bad cause theyre attached to this dumb brain i mean theyre looking at these words theyre like youre not getting any of this man thats the fifth time weve read that sentence lets try another one fiction nonfiction i dont know which ones the truth i read every book as the truth is how i handle it from what i can tell we have a pretty big wizard problem in this country right now we went to like we went to europe last year and by the way on the way to we were flying from nashville to london and we go uh it was  pm nashville time so as a game as a family i said lets guess what time it is in london so i said  am our daughter said  am my wife her guess was  and thats it yeah she didnt say the  and i was like just say the  she goes you know what i mean i go i know but just show our daughter you know what a normal person would say that started a pretty big fight if you go to europe just so you know uh its the most old its very old you think were old and you get there and youre like good night uh what have yall been doing over here you just walk around theyre like that building is from  youre like good golly went to australia as well australias very far away im going to tell you our earth is bigger than i thought it was we flew  hours over  miles an hour barely made it barely i think we went the wrong way as well i had jet lag there i did not mind it cause i woke up early i woke up at  am and i dont ever wake up that early so i was like first in line at the breakfast buffet heres what i will tell you when you get up at  am noon is pretty far away i mean you will bet your life its noon and its maybe  by  pm its like how are people out why wont the sun go down thats the next phase of my life getting up early you know were starting we get up at  a little bit yeah you know ive never seen my daughter go to school but ive been close im cold now too that im old fortyfive i just get cold i always have to bring a jacket it could be  degrees outside and i will walk around with a jacket and i see these young people and i just think where are your jackets my bodys falling apart my my shoulder hurts cause i stand onstage like this its crazy this was a huge mistake to get into this if i had known that this would be a big problem i would have probably tried to not make it a habit my body cant handle this and i went to the doctor to try to fix it i mean they talked to me like i was an old car he goes i wouldnt put any more money into it to be honest i pulled a muscle recently i guess it was in my soul i mean it was dead middle of my body i thought it was the front then i was like well my back hurts too you know so well whats in the middle what muscle is in the middle i went hiking i jumped off a rock i mean a foot high when i landed it felt what i would imagine being struck by lightning feels like i felt it through my fingernails fiftyfifty if my zippers up or down anymore its a true flip of the coin i dont know whats happening ive zipped up my whole life and now just head out like all right see you boys later just head out take my pants off at home they come off easy im like ah that was four hours i was walking around like i think its cause im peeing so much longer and im not used to this new old rhythm yet cause in your  theres a lot of false stops you learn pretty quick to be like lets hang back lets let traffic thin out a little bit i watch young people come and go im like tell my family im okay food is still i still have a problem with food i i love processed food i love it im a farmfactorytable guy crowd laughing cheering i want i want the most hands involved in my food its coming to an end you can feel i can feel it i cant do it anymore it really hurts i you know and i tell myself like ive done it i was yeah my jersey would be retired of eating fast food ive done all the stuff ive had taco bell and threw it away in my neighbors trash so my wife didnt find out i used so much ketchup once at a restaurant that a stranger walked up to me and goes thats a lot of ketchup do you know how much ketchup you got to use that guy doesnt want to get involved you know but he sees it i mean his wifes like let it go hes like i think i got to say something i dont i dont think he knows that were all no ones using that much ketchup i went to a mcdonalds drivethrough and my window did not roll down thats the universe saying give it a rest and i fought through it its embarrassing because they can tell because i had to pull past because i got to open my door so its going to hit the speaker so i gotta drive by it so the car behind me is like are you leaving im like my window dont roll down and i got to open the door now the speaker is by the gas tank so i gotta yell my order out now that guy hears it and then i look at mcdonalds screen well they got it all on the board just let the neighborhood know what im ordering and then i drove by the window the drivethrough window and i got to go by it cause i got to open my whole door so i go by it and i see them theyre like where are you going i was like nowhere and i go by and they see my whole body sitting in a chair its crazy if youve never done it its the most vulnerable i ever felt in my life just youre just sitting there and youre like hi they see your feet they see your feet they just throw it at me like a bear just throw it our family we just eat a lot of fast food our family text thread my dad texted he was like i found a way to get a big mac cheaper and he said you can order a double cheeseburger and ask for big mac sauce so he goes its cheaper and they get rid of that third bun so its atkins uh thats how you do it that third bun is the one youre like i dont know if i need the third bun my parents are getting older theyre not super old but theyre at the age where you know if they trip they will fall to the ground theres just an age where it hap i mean like if i trip my body hasnt touched the ground in  years but for them its just i dont know its like the upper is like were going and the lower is like what and its just boom and i mean theres no like whoa its just they dont even know whats happening theyre just looking at you and youre like youre not feeling any of this and they hit the ground so hard its like they got thrown off a roof everybody hears it theyre like whats going on im like my parents are down i got to get em up my moms got a bruise that wont go away for two years i just walk ahead of them now im like a sherpa just let them know the terrain that were about to hit got a little carpet coming up got a little carpet when we go outside a little brighter than inside yeah and cobblestone you aint gonna make that so lay down lay down on the carpet im gonna back the car up in the building we had my mom go pick up our daughter recently at a friends house and i texted her the address and she drove to the wrong house she knocked on the door another grandmother answered well this is no good this is like two dogs seeing each other through a fence its gonna be hard to get them both back inside so my mom she goes is my granddaughter there and the other lady goes i have three grandsons no solution just two grandmothers you have you have stuff i have stuff too they talked for  minutes its the wrong door i had to go get my daughter then find my mom and wives are the ones that keep it together the longest in a relationship if you see an old married couple like  theyre  the wife is just shes with it and her husbands like where are we at right now like he i mean our brains fall off a cliff dude like theyre the only reason hes out is because shes like you better get out and let people see you a little bit its like some zookeeper walking some old gorilla around let the kids touch you everybodys trying to feed him dont feed him that i think he wants it he definitely wants it hes too dumb to know he cant have it my dad goes to the hospital all the time i mean he he has surgery eight times a year probably he loves it he loves it the doctor will go look you could just stretch and he goes lets just do the surgery he had surgery cause he was addicted to afrin the nose spray yeah look i i got addicted to afrin as well i would honestly tell you if you dont know what it is i would tell you not to get involved its one of the best things ive ever been part of when i was on it too my wife was furious i had to try to hide it from her she could hear it from three blocks away just one little puff whats that i aint gonna live like this i aint work this hard not to do afrin in my own home so my dad they go to the doctor him and my mom and the doctor was like do you use afrin and my dad goes no and the doctor was like i can tell that you use it i was just saying that so he goes how long have you used it and my dad said five years which is a lie and my mom shes like well tell the truth you know she goes hes used it for  years he used afrin  years just for reference if you dont know the back of the box suggests no more than three days i mean theres not a medicine on earth that tells you to give it a good  run i think about my parents a lot because i mean the world is getting very futuristic and like them im from the  you got to watch out for the  people were old crowd cheering its so i mean my greataunt helen from the  shes deaf they didnt know she was deaf back then the doctors they had no idea they were baffled thats how thats how good doctors were back then they just said they looked at her as they smoked in her face these were real doctors they were like i dont know shes rude ill tell you that i mean i think what i saw growing up i mean we would go watch my dads a magician so we would go watch my dad do magic at the wilson county fair county fairs are great if you never theyre still going around i dont think the government knows about them but i mean we ride these rides that were on the interstate an hour ago so we would go watch my dad so my dad would do magic right next to him they had a donkey jumping off a high dive into a pool so pretty hard to keep everybodys attention when my dad is like is this your card and everybodys like this donkeys about to jump off this high dive thats something you dont think you wanna see till its up there and i use the word jump very loosely these donkeys are falling off this high dive but you cant put that on the sign you know you gonna watch a donkey fall off a high dive no okay what if he jumped well at least hes into it so the donkey would go up this ramp like  feet in the air and it would just stand there cause it doesnt want to jump its not in on this so but it gets stuck cause donkeys cant walk backwards not positive if that is true but i ive never seen a donkey go backwards ive never even really looked but i honestly think  years i would have seen a couple donkeys go backwards so the donkey stands there and a dog he sends a dog up the ramp it barks at the donkey and the donkey jumps in the pool and as someone that has seen this i tell you when that donkey hits the water youre like we should probably get out of here uh its not as fun as you thought it would be i mean this is going to sound dumb but youre really surprised youre seeing what the sign said you would see peta got a hold of that they shut it down and that was one i think everybody was like fair enough we get that another one peta had to shut down this was again like the  i was alive you could fight an orangutan at a fair they would have an orangutan just sitting in a boxing ring and guys would pay to fight it and i say guys because i just cant imagine one woman ever fought this orangutan i think you can put an orangutan in a room with a thousand women and when they walked out like did anybody fight it it never crossed our mind to fight it crowd laughing crowd cheering put three men in that room two of those men will fight that orangutan the other one wouldve started it going i think yall should fight that orangutan so guys get in there and theyre like all right well go fight this orangutan and the orangutan would just knock everybody out because we dont have the internet to look up how strong is an orangutan its all wordofmouth back then you had to meet a guy that just fought an orangutan youre like but the arms are skinny hes like i know thats what made me get in there as well crowd laughing applauding so peta put a stop to that also yeah look whatever you want to say about peta they did some real work in the  theres the first one of the first things they had to do car manufacturers before crash test dummies were invented they would use a pig in a car wreck so they sit a pig i guess upright and this little pig pigs are smart pretty good day for this pig its like you gonna let me drive a car pretty fun pretty fun day hes got his elbow out are yall kidding me right now you gonna let me drive this car i dont even know what that shows you pigs dont have necks thats what i was around when i was growing up i mean i look at my daughter and i have more in common with a pilgrim and pilgrims believed in witches little side note i would like to say i think the witch phase was the toughest phase for women to have to go through not to get serious but a lot of people say voting i disagree i think its witch then voting i think its witch pretty big gap then you know voting you jaywalk back then the whole towns like theres a witch youre like here we go here we go and ill give it to em because they couldve flown away but none of them ever did chuckles all right sorry that look just trying to get a witch joke in its pretty complicated theres a lot of moving parts you got to bring up pilgrims somehow i took a typing class in seventh grade thats how crowd applauding whooping and i thought it was a waste of my time i in my head i was like whos going to be typing cursive is the future crowd laughing applauding thats why i cause the future i dont know whats going i dont know technology i dont know what ai is i dont think you get to know what ai is and also see a donkey jump off a high dive i think it was one or the other and i saw the donkey so im out if i send an email and it says the file is too big i dont know what to do my best guess is i try to resend it thats what i try to you know how dumb that is the computers like no and i go what about now though hotels are getting futuristic a lot of hotels when i stay at now when you take a shower they have half a glass so its open so the water gets on the floor because thats the future they want water on the floor and im old and dumb i come you know we really tried to keep the water inside the tub it was a pretty big deal but now they want the floors wet thats what they want they want to do no glass but im still alive so theyre like all right do half a glass once that guys gone well do no glass floors are wet drains off the balcony when i first started going on the road i would have to do a wakeup call thats how i got up in the morning id have to call a guy i dont know and just be like will you wake me up tomorrow crowd laughing applauding thats the last person i would talk to was him i would call my wife then a man ive never seen you promise you gonna wake me up tomorrow we would tell each other good night so no ones done a wakeup call in probably  years now so this guy on the road with us hes  years old hes never done a wakeup call in his life and so were staying at a hotel and he saw the wakeup call on the phone and he goes im going to do a wakeup call and i told him i go dont do it i mean thats like an ashtray on an airplane he was like no i want to do it all right so he set it up next morning his phone rings he doesnt answer the phone he doesnt know thats the main part of your job you gotta answer the phone and let the guy know youre awake so then that guy whos young too probably is like i guess i got to go knock on the door ive never even seen this service used so it must be the most important person alive so he goes up and he starts knocking on the door my buddy still doesnt answer the door so the guy goes in the room i swear this is real cause look this is two young people they dont know what theyre doing so he goes in the room like do i have to touch this guy is that what a wakeup call is i gotta touch a guy ive never seen in the dark so id imagine he started making noises just going hep hey now hep hep hep hep hep hoping he doesnt have to touch this man but he had to touch him i swear thats what he told me he woke up to another guy going hey buddy its time to wake up thank you so much crowd cheering  feeling good like i should  sunday best by surfaces playing  went and took a walk around the neighborhood   feeling blessed never stressed   got that sunshine on my sunday best yeah   every day can be a better day despite the challenge   all you gotta do is leave it better than you found it   its gonna get difficult to stand but hold your balance   i just say whatever cause there is no way around it   everyone falls down sometimes   but you just gotta know itll all be fine   its okay  dramatic jingle playing your email address will not be published required fields are marked  name email website   comedian ari shaffir tackles controversial topics like terrorism gun violence racism and more in his standup special with a darkly humorous approach he explores unexpected perspectives on sensitive social and political issues gabriel iglesias legend of fluffy celebrates his  career blending sharp humor with personal stories about fame societal norms cultural identity and life lessons while staying true to his comedic mission of entertainment over offense bill mahers special critiques woke culture political extremes and societal absurdities with sharp humor urging open dialogue amid polarizing times michelle buteaus latest special falls flat with humor that feels strained and moments that drag where they should sparkle the material lacks the sharpness and  ©  scraps from the loft all rights reserved get the best articles once a week directly to your inbox'"
      ]
     },
     "execution_count": 65,
     "metadata": {},
     "output_type": "execute_result"
    }
   ],
   "source": [
    "data_clean.transcript.loc['nate']"
   ]
  },
  {
   "cell_type": "markdown",
   "id": "b3b51f56-6e35-48fd-a54d-9e8a60e7f181",
   "metadata": {},
   "source": [
    "**NOTE:** This data cleaning aka text pre-processing step could go on for a while, but we are going to stop for now. \\\n",
    "After going through some analysis techniques, if you see that the results don't make sense or could be improved, you can come back and make some edits such as:\n",
    "* Mark 'cheering' and 'cheer' as the same word (`stemming/lemmatization`)\n",
    "* Combine 'thank you' into one term (bi-grams)\n",
    "* And a lot more..."
   ]
  },
  {
   "cell_type": "markdown",
   "id": "d190cc41-2f30-48be-9256-a31d1fae6096",
   "metadata": {},
   "source": [
    "## 1.5  Organizing The Data\n",
    "These are two types of data formats:\n",
    "1. `Corpus` - a collection text\n",
    "2. `DTM` - word counts in matrix format"
   ]
  },
  {
   "cell_type": "markdown",
   "id": "e59de4f3-0881-4419-8dce-8999092ce00d",
   "metadata": {},
   "source": [
    "### 1.5.1 Corpus\n",
    "It is a collection of texts, and they are all put together neatly in a pandas dataframe."
   ]
  },
  {
   "cell_type": "code",
   "execution_count": 66,
   "id": "91f7fc43-efcc-4172-93e2-67de0f06ec5b",
   "metadata": {},
   "outputs": [
    {
     "data": {
      "text/html": [
       "<div>\n",
       "<style scoped>\n",
       "    .dataframe tbody tr th:only-of-type {\n",
       "        vertical-align: middle;\n",
       "    }\n",
       "\n",
       "    .dataframe tbody tr th {\n",
       "        vertical-align: top;\n",
       "    }\n",
       "\n",
       "    .dataframe thead th {\n",
       "        text-align: right;\n",
       "    }\n",
       "</style>\n",
       "<table border=\"1\" class=\"dataframe\">\n",
       "  <thead>\n",
       "    <tr style=\"text-align: right;\">\n",
       "      <th></th>\n",
       "      <th>transcript</th>\n",
       "    </tr>\n",
       "  </thead>\n",
       "  <tbody>\n",
       "    <tr>\n",
       "      <th>tom</th>\n",
       "      <td>[“Soul Man” by The Blues Brothers plays] [audi...</td>\n",
       "    </tr>\n",
       "    <tr>\n",
       "      <th>anthony</th>\n",
       "      <td>[crowd cheering] Thank you all for coming to t...</td>\n",
       "    </tr>\n",
       "    <tr>\n",
       "      <th>bill</th>\n",
       "      <td>Bill Maher‘s Is Anyone Else Seeing This? is a ...</td>\n",
       "    </tr>\n",
       "    <tr>\n",
       "      <th>ali</th>\n",
       "      <td>[“Get me Bodied (Extended Mix)” playing] [audi...</td>\n",
       "    </tr>\n",
       "    <tr>\n",
       "      <th>ahir</th>\n",
       "      <td>Ahir Shah: Ends (2024)\\nGenre: Stand-up Comedy...</td>\n",
       "    </tr>\n",
       "    <tr>\n",
       "      <th>ari</th>\n",
       "      <td>[lightning crashes] Every town, I figured out,...</td>\n",
       "    </tr>\n",
       "    <tr>\n",
       "      <th>gabriel</th>\n",
       "      <td>Gabriel Iglesias’ Legend of Fluffy is a lively...</td>\n",
       "    </tr>\n",
       "    <tr>\n",
       "      <th>nate</th>\n",
       "      <td>Your Friend, Nate Bargatze (2024)\\nGenre: Come...</td>\n",
       "    </tr>\n",
       "    <tr>\n",
       "      <th>joe</th>\n",
       "      <td>Joe Rogan, performing live in San Antonio, exp...</td>\n",
       "    </tr>\n",
       "  </tbody>\n",
       "</table>\n",
       "</div>"
      ],
      "text/plain": [
       "                                                transcript\n",
       "tom      [“Soul Man” by The Blues Brothers plays] [audi...\n",
       "anthony  [crowd cheering] Thank you all for coming to t...\n",
       "bill     Bill Maher‘s Is Anyone Else Seeing This? is a ...\n",
       "ali      [“Get me Bodied (Extended Mix)” playing] [audi...\n",
       "ahir     Ahir Shah: Ends (2024)\\nGenre: Stand-up Comedy...\n",
       "ari      [lightning crashes] Every town, I figured out,...\n",
       "gabriel  Gabriel Iglesias’ Legend of Fluffy is a lively...\n",
       "nate     Your Friend, Nate Bargatze (2024)\\nGenre: Come...\n",
       "joe      Joe Rogan, performing live in San Antonio, exp..."
      ]
     },
     "execution_count": 66,
     "metadata": {},
     "output_type": "execute_result"
    }
   ],
   "source": [
    "# lets see the corpus data\n",
    "df"
   ]
  },
  {
   "cell_type": "code",
   "execution_count": 67,
   "id": "f44a60b2-ac8f-4c96-a5ce-87bc5cffb2cc",
   "metadata": {},
   "outputs": [],
   "source": [
    "# Lets pickle it for later use\n",
    "df.to_pickle('data/corpus.pkl')"
   ]
  },
  {
   "cell_type": "markdown",
   "id": "b4daa96c-0d52-4260-bb3f-0f738a068f19",
   "metadata": {},
   "source": [
    "### 1.5.2 Documen-Term Matrix (DTM)\n",
    "The text must be tokenized, meaning broken down into smaller pieces. The most common tokenizer technique is to break down text into words. We can do this using scikit-learn's `CountVectorizer`, where every row will represent a different document and every column will represent a different word.\n",
    "\n",
    "In addition, with `CountVectorizer`, we can remove stop words. **Stop words** are common words that add no additional meaning to text such as 'a', 'the', etc."
   ]
  },
  {
   "cell_type": "code",
   "execution_count": 68,
   "id": "968cc7d3-56ad-4f85-ad44-71318c71219f",
   "metadata": {},
   "outputs": [],
   "source": [
    "# create a DTM\n",
    "from sklearn.feature_extraction.text import CountVectorizer\n",
    "\n",
    "# Initialize the CountVectorizer with English stop words\n",
    "vectorizer = CountVectorizer(stop_words='english')\n",
    "\n",
    "# Fit the vectorizer to the data and transform it into a document-term matrix\n",
    "data_cv = vectorizer.fit_transform(data_clean.transcript)\n",
    "\n",
    "# Convert the document-term matrix into a DataFrame\n",
    "data_dtm = pd.DataFrame(data_cv.toarray())\n",
    "\n",
    "# Set the DataFrame index to match the original data index\n",
    "data_dtm.index = data_clean.index\n",
    "\n",
    "# Get feature names using the vocabulary_ attribute\n",
    "feature_names = list(vectorizer.vocabulary_.keys())\n",
    "\n",
    "# Set the DataFrame columns to be the feature names\n",
    "data_dtm.columns = feature_names"
   ]
  },
  {
   "cell_type": "code",
   "execution_count": 70,
   "id": "8a265116-a56c-4f05-a0e1-4272678d0a58",
   "metadata": {},
   "outputs": [
    {
     "data": {
      "text/plain": [
       "(9, 6507)"
      ]
     },
     "execution_count": 70,
     "metadata": {},
     "output_type": "execute_result"
    }
   ],
   "source": [
    "data_dtm.shape"
   ]
  },
  {
   "cell_type": "code",
   "execution_count": 71,
   "id": "eba44d49-f7c9-4f3b-a430-effcb9663a44",
   "metadata": {},
   "outputs": [],
   "source": [
    "# Lets pickle it for later use\n",
    "data_dtm.to_pickle('data/dtm.pkl')"
   ]
  },
  {
   "cell_type": "code",
   "execution_count": 72,
   "id": "4be04f2f-78e8-4a18-9cbd-19cd6c57a357",
   "metadata": {},
   "outputs": [],
   "source": [
    "# Pickle the cleaned data for later use\n",
    "data_clean.to_pickle('data/data_clean.pkl')\n",
    "\n",
    "# Pickle the CountVectorizer for later use\n",
    "with open('data/vectorizer.pkl', 'wb') as file:\n",
    "    pickle.dump(vectorizer, file)"
   ]
  },
  {
   "cell_type": "markdown",
   "id": "b128070e-b351-4360-b29d-f775b662fe2c",
   "metadata": {},
   "source": [
    "## 1.6 Additionl text processing\n",
    "```python\n",
    "from sklearn.feature_extraction.text import CountVectorizer\n",
    "\n",
    "# Initialize the CountVectorizer with custom parameters\n",
    "vectorizer = CountVectorizer(\n",
    "    ngram_range=(1, 2),  # Extract unigrams and bigrams\n",
    "    min_df=5,            # Ignore terms that appear in fewer than 5 documents\n",
    "    max_df=0.8           # Ignore terms that appear in more than 80% of the documents\n",
    ")\n",
    "```\n"
   ]
  },
  {
   "cell_type": "code",
   "execution_count": null,
   "id": "db752982-0a50-4b90-8ca7-a651f73d7290",
   "metadata": {},
   "outputs": [],
   "source": []
  }
 ],
 "metadata": {
  "kernelspec": {
   "display_name": "ml",
   "language": "python",
   "name": "ml"
  },
  "language_info": {
   "codemirror_mode": {
    "name": "ipython",
    "version": 3
   },
   "file_extension": ".py",
   "mimetype": "text/x-python",
   "name": "python",
   "nbconvert_exporter": "python",
   "pygments_lexer": "ipython3",
   "version": "3.12.4"
  }
 },
 "nbformat": 4,
 "nbformat_minor": 5
}
