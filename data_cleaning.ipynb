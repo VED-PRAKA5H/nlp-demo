{
 "cells": [
  {
   "cell_type": "markdown",
   "id": "fbd07408-c9ad-4287-afe4-cdd38e788c10",
   "metadata": {},
   "source": [
    "# 1 Data Cleaning "
   ]
  },
  {
   "cell_type": "markdown",
   "id": "c2a0009b-1a77-48b2-9573-7d92b32fd482",
   "metadata": {},
   "source": [
    "## 1.1 Introduction\n",
    "we will be walking through:\n",
    "1. Getting the data\n",
    "2. Cleaning the data\n",
    "3. Organizing the data\n",
    "   \n",
    "The output of this notebook will be clean, organized data in two standard text formats:\n",
    "1. **Corpus** - a collection of text\n",
    "2. **Document Text Matrix** - word counts in matrix format"
   ]
  },
  {
   "cell_type": "markdown",
   "id": "223ddd48-6b59-4980-bb7e-3aae8781ba2e",
   "metadata": {},
   "source": [
    "## 1.2 Problem Statement\n",
    "How someone speech is different than othes?"
   ]
  },
  {
   "cell_type": "markdown",
   "id": "afe0a254-46fb-4f3a-b380-9d84a286d14f",
   "metadata": {},
   "source": [
    "## 1.3 Getting The Data\n",
    "Get routine of comedian who has imdb rating greater or equal than 7.5/10 and more than 2000 votes.\\\n",
    "Do scraping from the [SCRAPS FROM THE LOFT](https://scrapsfromtheloft.com/comedy/your-friend-nate-bargatze-transcript/)"
   ]
  },
  {
   "cell_type": "code",
   "execution_count": 1,
   "id": "387e6419-7fb0-4a45-8dfb-b9790bf3c7a0",
   "metadata": {},
   "outputs": [],
   "source": [
    "# Web scraping, pickle imports\n",
    "import requests\n",
    "from bs4 import BeautifulSoup\n",
    "import pickle"
   ]
  },
  {
   "cell_type": "code",
   "execution_count": 41,
   "id": "6bc9cdf5-a61d-4c96-b3c5-bb92a6033d2a",
   "metadata": {},
   "outputs": [],
   "source": [
    "def url_to_transcript(url):\n",
    "    \"\"\"Return transcript data specifically from scrapsfromloft.com\"\"\"\n",
    "    page = requests.get(url).text\n",
    "    soup = BeautifulSoup(page, 'html')\n",
    "    text = [p.text for p in soup.find_all('p')]\n",
    "    print(url)\n",
    "    return text[1:20]  # get the 2 to 20 paragraph\n",
    "\n",
    "# URLs of transcripts in scope\n",
    "urls = [\n",
    "    'https://scrapsfromtheloft.com/comedy/gabriel-iglesias-legend-of-fluffy-2025-transcript/',\n",
    "    'https://scrapsfromtheloft.com/comedy/your-friend-nate-bargatze-transcript/',\n",
    "    'https://scrapsfromtheloft.com/comedy/joe-rogan-burn-the-boats-transcript/'\n",
    "]\n",
    "comedians = ['Gabriel', 'Nate', 'Joe']"
   ]
  },
  {
   "cell_type": "code",
   "execution_count": 42,
   "id": "4838e061-cade-446d-b4de-ae854e537579",
   "metadata": {},
   "outputs": [
    {
     "name": "stdout",
     "output_type": "stream",
     "text": [
      "https://scrapsfromtheloft.com/comedy/gabriel-iglesias-legend-of-fluffy-2025-transcript/\n",
      "https://scrapsfromtheloft.com/comedy/your-friend-nate-bargatze-transcript/\n",
      "https://scrapsfromtheloft.com/comedy/joe-rogan-burn-the-boats-transcript/\n"
     ]
    }
   ],
   "source": [
    "# this will take some time to scrape\n",
    "transcripts = [url_to_transcript(u) for u in urls]"
   ]
  },
  {
   "cell_type": "code",
   "execution_count": 43,
   "id": "585135d8-51c3-47e4-8b45-8885473a2429",
   "metadata": {},
   "outputs": [],
   "source": [
    "data = dict()\n",
    "for i, c in enumerate(comedians):\n",
    "    data[c] = transcripts[i]"
   ]
  },
  {
   "cell_type": "code",
   "execution_count": 40,
   "id": "b88c6c3f-7f2a-4a40-972b-286894025cc4",
   "metadata": {},
   "outputs": [],
   "source": [
    "# pickle files for later use\n",
    "# make a new directory to hold the text files\n",
    "import os\n",
    "os.mkdir('data')"
   ]
  },
  {
   "cell_type": "code",
   "execution_count": null,
   "id": "35a4b4f2-aa7a-4a87-83ec-9038ef341a71",
   "metadata": {},
   "outputs": [],
   "source": [
    "# Save the dictionary to a pickle file\n",
    "with open('data/data.pickle', 'wb') as file:\n",
    "    pickle.dump(transcript_dict, file)\n",
    "\n",
    "print(\"Dictionary saved to 'transcripts.pickle'\")\n"
   ]
  },
  {
   "cell_type": "code",
   "execution_count": 46,
   "id": "7b4ffffd-cdb3-476b-8b64-75ac49ad947c",
   "metadata": {},
   "outputs": [
    {
     "data": {
      "text/plain": [
       "dict_keys(['Gabriel', 'Nate', 'Joe'])"
      ]
     },
     "execution_count": 46,
     "metadata": {},
     "output_type": "execute_result"
    }
   ],
   "source": [
    "# check if the data has been loaded or not\n",
    "data.keys()"
   ]
  },
  {
   "cell_type": "code",
   "execution_count": 47,
   "id": "0d961a6f-f96b-41c0-9bd0-33a70ad1e0ca",
   "metadata": {},
   "outputs": [
    {
     "data": {
      "text/plain": [
       "['Nate Bargatze’s 2024 Netflix stand-up special, Your Friend, Nate Bargatze, is a comedic journey through the absurdities of everyday life. With his signature deadpan delivery, Bargatze riffs on relatable topics like pizza-ordering dilemmas, domestic quirks with his frugal wife, and parenting mishaps, weaving personal anecdotes with exaggerated humor. The show opens with a spirited introduction from his daughter, setting the stage for a performance rooted in self-deprecating humor, small-town nostalgia, and sharp observations about modern absurdities. Bargatze’s storytelling shines as he recounts his days as a water meter reader, his failed attempts to manage daily routines without his wife’s guidance, and his humorous take on aging and familial dynamics.',\n",
       " 'The special thrives on Bargatze’s ability to find comedy in the mundane, whether it’s debating the dominance of dogs sleeping in beds or lamenting the complexities of fast-food drive-throughs. His observations on generational quirks, from his parents’ idiosyncrasies to his own aging mishaps, resonate universally. The show crescendos with his musings on societal advancements, juxtaposed with his small-town upbringing, culminating in laugh-out-loud reflections on AI, modern hotels, and outdated services like wake-up calls. Through it all, Bargatze maintains a warm and engaging rapport with his audience, delivering a feel-good hour of humor that blends sharp wit with heartfelt relatability.']"
      ]
     },
     "execution_count": 47,
     "metadata": {},
     "output_type": "execute_result"
    }
   ],
   "source": [
    "# double check\n",
    "data['Nate'][:2]"
   ]
  },
  {
   "cell_type": "code",
   "execution_count": 25,
   "id": "9b9d744a-f63e-40ae-a2e8-5d7cf01c2811",
   "metadata": {},
   "outputs": [],
   "source": [
    "soup.find('p',class_='post-content')"
   ]
  },
  {
   "cell_type": "code",
   "execution_count": null,
   "id": "97e910eb-55f6-4200-ad03-d4a7d90ee5d3",
   "metadata": {},
   "outputs": [],
   "source": []
  }
 ],
 "metadata": {
  "kernelspec": {
   "display_name": "ml",
   "language": "python",
   "name": "ml"
  },
  "language_info": {
   "codemirror_mode": {
    "name": "ipython",
    "version": 3
   },
   "file_extension": ".py",
   "mimetype": "text/x-python",
   "name": "python",
   "nbconvert_exporter": "python",
   "pygments_lexer": "ipython3",
   "version": "3.12.4"
  }
 },
 "nbformat": 4,
 "nbformat_minor": 5
}
